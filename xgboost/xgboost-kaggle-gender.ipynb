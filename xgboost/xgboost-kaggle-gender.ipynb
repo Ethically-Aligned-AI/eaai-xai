{
 "metadata": {
  "language_info": {
   "codemirror_mode": {
    "name": "ipython",
    "version": 3
   },
   "file_extension": ".py",
   "mimetype": "text/x-python",
   "name": "python",
   "nbconvert_exporter": "python",
   "pygments_lexer": "ipython3",
   "version": "3.8.2"
  },
  "orig_nbformat": 2,
  "kernelspec": {
   "name": "python382jvsc74a57bd0dba2eb6709c9760ece0c88a47ed7987433aa2131181da98756b93d9d7ffe864e",
   "display_name": "Python 3.8.2 64-bit ('py38': conda)"
  },
  "metadata": {
   "interpreter": {
    "hash": "dba2eb6709c9760ece0c88a47ed7987433aa2131181da98756b93d9d7ffe864e"
   }
  }
 },
 "nbformat": 4,
 "nbformat_minor": 2,
 "cells": [
  {
   "cell_type": "code",
   "execution_count": 1,
   "metadata": {},
   "outputs": [
    {
     "output_type": "stream",
     "name": "stdout",
     "text": [
      "Requirement already satisfied: shap in /Users/jessep/.pyenv/versions/3.9.2/lib/python3.9/site-packages (0.39.0)\n",
      "Requirement already satisfied: numpy in /Users/jessep/.pyenv/versions/3.9.2/lib/python3.9/site-packages (from shap) (1.20.2)\n",
      "Requirement already satisfied: scipy in /Users/jessep/.pyenv/versions/3.9.2/lib/python3.9/site-packages (from shap) (1.6.3)\n",
      "Requirement already satisfied: scikit-learn in /Users/jessep/.pyenv/versions/3.9.2/lib/python3.9/site-packages (from shap) (0.24.2)\n",
      "Requirement already satisfied: pandas in /Users/jessep/.pyenv/versions/3.9.2/lib/python3.9/site-packages (from shap) (1.2.3)\n",
      "Requirement already satisfied: tqdm>4.25.0 in /Users/jessep/.pyenv/versions/3.9.2/lib/python3.9/site-packages (from shap) (4.61.0)\n",
      "Requirement already satisfied: slicer==0.0.7 in /Users/jessep/.pyenv/versions/3.9.2/lib/python3.9/site-packages (from shap) (0.0.7)\n",
      "Requirement already satisfied: numba in /Users/jessep/.pyenv/versions/3.9.2/lib/python3.9/site-packages (from shap) (0.53.1)\n",
      "Requirement already satisfied: cloudpickle in /Users/jessep/.pyenv/versions/3.9.2/lib/python3.9/site-packages (from shap) (1.6.0)\n",
      "Requirement already satisfied: setuptools in /Users/jessep/.pyenv/versions/3.9.2/lib/python3.9/site-packages (from numba->shap) (49.2.1)\n",
      "Requirement already satisfied: llvmlite<0.37,>=0.36.0rc1 in /Users/jessep/.pyenv/versions/3.9.2/lib/python3.9/site-packages (from numba->shap) (0.36.0)\n",
      "Requirement already satisfied: python-dateutil>=2.7.3 in /Users/jessep/.pyenv/versions/3.9.2/lib/python3.9/site-packages (from pandas->shap) (2.8.1)\n",
      "Requirement already satisfied: pytz>=2017.3 in /Users/jessep/.pyenv/versions/3.9.2/lib/python3.9/site-packages (from pandas->shap) (2020.4)\n",
      "Requirement already satisfied: six>=1.5 in /Users/jessep/.pyenv/versions/3.9.2/lib/python3.9/site-packages (from python-dateutil>=2.7.3->pandas->shap) (1.15.0)\n",
      "Requirement already satisfied: joblib>=0.11 in /Users/jessep/.pyenv/versions/3.9.2/lib/python3.9/site-packages (from scikit-learn->shap) (1.0.1)\n",
      "Requirement already satisfied: threadpoolctl>=2.0.0 in /Users/jessep/.pyenv/versions/3.9.2/lib/python3.9/site-packages (from scikit-learn->shap) (2.1.0)\n",
      "\u001b[33mWARNING: You are using pip version 21.1.1; however, version 21.1.2 is available.\n",
      "You should consider upgrading via the '/Users/jessep/.pyenv/versions/3.9.2/bin/python -m pip install --upgrade pip' command.\u001b[0m\n"
     ]
    },
    {
     "output_type": "error",
     "ename": "ModuleNotFoundError",
     "evalue": "No module named 'shap'",
     "traceback": [
      "\u001b[0;31m---------------------------------------------------------------------------\u001b[0m",
      "\u001b[0;31mModuleNotFoundError\u001b[0m                       Traceback (most recent call last)",
      "\u001b[0;32m<ipython-input-1-f31bbe5a7f86>\u001b[0m in \u001b[0;36m<module>\u001b[0;34m\u001b[0m\n\u001b[1;32m      5\u001b[0m \u001b[0;32mimport\u001b[0m \u001b[0mmatplotlib\u001b[0m\u001b[0;34m.\u001b[0m\u001b[0mpyplot\u001b[0m \u001b[0;32mas\u001b[0m \u001b[0mplt\u001b[0m\u001b[0;34m\u001b[0m\u001b[0;34m\u001b[0m\u001b[0m\n\u001b[1;32m      6\u001b[0m \u001b[0;32mimport\u001b[0m \u001b[0mseaborn\u001b[0m \u001b[0;32mas\u001b[0m \u001b[0msns\u001b[0m\u001b[0;34m\u001b[0m\u001b[0;34m\u001b[0m\u001b[0m\n\u001b[0;32m----> 7\u001b[0;31m \u001b[0;32mimport\u001b[0m \u001b[0mshap\u001b[0m\u001b[0;34m\u001b[0m\u001b[0;34m\u001b[0m\u001b[0m\n\u001b[0m\u001b[1;32m      8\u001b[0m \u001b[0;32mfrom\u001b[0m \u001b[0msklearn\u001b[0m\u001b[0;34m.\u001b[0m\u001b[0mpreprocessing\u001b[0m \u001b[0;32mimport\u001b[0m \u001b[0mLabelEncoder\u001b[0m\u001b[0;34m\u001b[0m\u001b[0;34m\u001b[0m\u001b[0m\n\u001b[1;32m      9\u001b[0m \u001b[0;32mfrom\u001b[0m \u001b[0msklearn\u001b[0m\u001b[0;34m.\u001b[0m\u001b[0mmodel_selection\u001b[0m \u001b[0;32mimport\u001b[0m \u001b[0mtrain_test_split\u001b[0m\u001b[0;34m\u001b[0m\u001b[0;34m\u001b[0m\u001b[0m\n",
      "\u001b[0;31mModuleNotFoundError\u001b[0m: No module named 'shap'"
     ]
    }
   ],
   "source": [
    "from pathlib import Path\n",
    "import numpy as np\n",
    "import pandas as pd\n",
    "import matplotlib.pyplot as plt\n",
    "import seaborn as sns\n",
    "import shap\n",
    "from sklearn.preprocessing import LabelEncoder\n",
    "from sklearn.model_selection import train_test_split\n",
    "from sklearn.metrics import classification_report\n",
    "from xgboost import XGBClassifier\n",
    "from xgboost import plot_importance\n",
    "import warnings\n",
    "warnings.filterwarnings('ignore')\n",
    "sns.set()"
   ]
  },
  {
   "source": [
    "## Read Data"
   ],
   "cell_type": "markdown",
   "metadata": {}
  },
  {
   "cell_type": "code",
   "execution_count": 2,
   "metadata": {},
   "outputs": [
    {
     "output_type": "execute_result",
     "data": {
      "text/plain": [
       "         experience french_level    status cv_received cv_validated  \\\n",
       "match_id                                                              \n",
       "11124         [0-1]           B1  Rejected         NaT          NaT   \n",
       "\n",
       "         cv_approved  match_status  race  \n",
       "match_id                                  \n",
       "11124            NaT             0   1.0  "
      ],
      "text/html": "<div>\n<style scoped>\n    .dataframe tbody tr th:only-of-type {\n        vertical-align: middle;\n    }\n\n    .dataframe tbody tr th {\n        vertical-align: top;\n    }\n\n    .dataframe thead th {\n        text-align: right;\n    }\n</style>\n<table border=\"1\" class=\"dataframe\">\n  <thead>\n    <tr style=\"text-align: right;\">\n      <th></th>\n      <th>experience</th>\n      <th>french_level</th>\n      <th>status</th>\n      <th>cv_received</th>\n      <th>cv_validated</th>\n      <th>cv_approved</th>\n      <th>match_status</th>\n      <th>race</th>\n    </tr>\n    <tr>\n      <th>match_id</th>\n      <th></th>\n      <th></th>\n      <th></th>\n      <th></th>\n      <th></th>\n      <th></th>\n      <th></th>\n      <th></th>\n    </tr>\n  </thead>\n  <tbody>\n    <tr>\n      <th>11124</th>\n      <td>[0-1]</td>\n      <td>B1</td>\n      <td>Rejected</td>\n      <td>NaT</td>\n      <td>NaT</td>\n      <td>NaT</td>\n      <td>0</td>\n      <td>1.0</td>\n    </tr>\n  </tbody>\n</table>\n</div>"
     },
     "metadata": {},
     "execution_count": 2
    }
   ],
   "source": [
    "data_file = Path.cwd().parent / 'data' / 'kaggle' / 'dataExpLang' / 'base-race-dataset-with-exp-lang.csv'\n",
    "\n",
    "df = pd.read_csv(data_file, index_col='Match_ID')\n",
    "df.columns = (\n",
    "    'cv_id',\n",
    "    'experience', \n",
    "    'french_level',\n",
    "    'status',\n",
    "    'cv_received',\n",
    "    'cv_validated',\n",
    "    'cv_approved',\n",
    "    'match_status',\n",
    "    'response_time',\n",
    "    'decision_time',\n",
    "    'race'\n",
    ")\n",
    "df.drop(columns=['response_time', 'decision_time', 'cv_id'], inplace=True)\n",
    "df.index.names = ['match_id']\n",
    "\n",
    "df['cv_received'] = pd.to_datetime(df.cv_received)\n",
    "df['cv_validated'] = pd.to_datetime(df.cv_validated)\n",
    "df['cv_approved'] = pd.to_datetime(df.cv_approved)\n",
    "\n",
    "df.sample(1)"
   ]
  },
  {
   "source": [
    "## EDA"
   ],
   "cell_type": "markdown",
   "metadata": {}
  },
  {
   "cell_type": "code",
   "execution_count": 3,
   "metadata": {},
   "outputs": [
    {
     "output_type": "stream",
     "name": "stdout",
     "text": [
      "Input data has only 269/573 (46.95%) accepted candidates.\nSince the data is so skewed, we will not use accuracy as a performance measure\n"
     ]
    }
   ],
   "source": [
    "status_go_match = [\n",
    "    'A01 - Offer Preparation Started',\n",
    "    'A02 - Offer Sent to Candidate',\n",
    "    'A03 - Offer accepted',\n",
    "    'A03 - Offer declined',\n",
    "    'A03 - Process Cancelled',\n",
    "    'A04 - Hiring Request Started',\n",
    "    'A04a – Hiring Started / Collecting signatures',\n",
    "    'A04b – Hiring Started / Contract signed',\n",
    "    'A05 - Onboarding',\n",
    "    'A06 - Offboarding',\n",
    "    'B01 - Subcontracting Started',\n",
    "    'B02 - Subcontracting Signed',\n",
    "    'D01 – Resignation',\n",
    "    'T01- Terminated',\n",
    "    'Candidate validated'\n",
    "]\n",
    "df_go = df[df['status'].isin(status_go_match)]\n",
    "no_go_pct = (1 - df_go.shape[0] / df.shape[0]) * 100\n",
    "print(\"Input data has only {}/{} ({}%) accepted candidates.\".format(\n",
    "    df_go.shape[0],\n",
    "    df.shape[0],\n",
    "    round(df_go.shape[0] / df.shape[0] * 100, 2)\n",
    "))\n",
    "print(\"Since the data is so skewed, we will not use accuracy as a performance measure\")"
   ]
  },
  {
   "source": [
    "## Feature Engineering\n",
    "### Add Computed features"
   ],
   "cell_type": "markdown",
   "metadata": {}
  },
  {
   "cell_type": "code",
   "execution_count": 4,
   "metadata": {},
   "outputs": [],
   "source": [
    "df['response_time'] = (df['cv_validated'] - df['cv_received']).dt.days\n",
    "df['decision_time'] = (df['cv_approved'] - df['cv_validated']).dt.days"
   ]
  },
  {
   "cell_type": "code",
   "execution_count": 5,
   "metadata": {},
   "outputs": [
    {
     "output_type": "execute_result",
     "data": {
      "text/plain": [
       "         experience french_level       status cv_received cv_validated  \\\n",
       "match_id                                                                 \n",
       "10837          [8+]           A1  Dropped out  2017-05-23   2018-04-03   \n",
       "\n",
       "         cv_approved  match_status  race  response_time  decision_time  \n",
       "match_id                                                                \n",
       "10837            NaT             0   1.0          315.0            NaN  "
      ],
      "text/html": "<div>\n<style scoped>\n    .dataframe tbody tr th:only-of-type {\n        vertical-align: middle;\n    }\n\n    .dataframe tbody tr th {\n        vertical-align: top;\n    }\n\n    .dataframe thead th {\n        text-align: right;\n    }\n</style>\n<table border=\"1\" class=\"dataframe\">\n  <thead>\n    <tr style=\"text-align: right;\">\n      <th></th>\n      <th>experience</th>\n      <th>french_level</th>\n      <th>status</th>\n      <th>cv_received</th>\n      <th>cv_validated</th>\n      <th>cv_approved</th>\n      <th>match_status</th>\n      <th>race</th>\n      <th>response_time</th>\n      <th>decision_time</th>\n    </tr>\n    <tr>\n      <th>match_id</th>\n      <th></th>\n      <th></th>\n      <th></th>\n      <th></th>\n      <th></th>\n      <th></th>\n      <th></th>\n      <th></th>\n      <th></th>\n      <th></th>\n    </tr>\n  </thead>\n  <tbody>\n    <tr>\n      <th>10837</th>\n      <td>[8+]</td>\n      <td>A1</td>\n      <td>Dropped out</td>\n      <td>2017-05-23</td>\n      <td>2018-04-03</td>\n      <td>NaT</td>\n      <td>0</td>\n      <td>1.0</td>\n      <td>315.0</td>\n      <td>NaN</td>\n    </tr>\n  </tbody>\n</table>\n</div>"
     },
     "metadata": {},
     "execution_count": 5
    }
   ],
   "source": [
    "df.sample(1)"
   ]
  },
  {
   "source": [
    "### Add Mapped Status \n",
    "Boolean _Go_ -> 1 or _No Go_ -> 0"
   ],
   "cell_type": "markdown",
   "metadata": {}
  },
  {
   "cell_type": "code",
   "execution_count": 6,
   "metadata": {},
   "outputs": [],
   "source": [
    "status_map = {\n",
    "    'Rejected': 0,\n",
    "    'CV refused': 0,\n",
    "    'A02 - Offer Sent to Candidate': 1,\n",
    "    'Candidate refused': 0,\n",
    "    'A03 - Offer declined': 1,\n",
    "    'D01 – Resignation': 1,\n",
    "    'A05 - Onboarding': 1,\n",
    "    'Candidate dropped out': 0,\n",
    "    'CV dropped out': 0,\n",
    "    'T01- Terminated': 1,\n",
    "    'A03 - Process Cancelled': 1,\n",
    "    'Dropped out': 0,\n",
    "    'Approved': 0,\n",
    "    'CV sent to France': 0,\n",
    "    'Matched': 0,\n",
    "    'Candidate validated': 1,\n",
    "    'A01 - Offer Preparation Started': 1,\n",
    "    'A04b – Hiring Started / Contract signed': 1,\n",
    "    'A03 - Offer accepted': 1,\n",
    "    'CV approved': 0,\n",
    "    'A04 - Hiring Request Started': 1,\n",
    "    'Sent to Client': 0\n",
    "}\n",
    "df['status_mapped'] = df.status.map(status_map).astype(int)"
   ]
  },
  {
   "cell_type": "code",
   "execution_count": 7,
   "metadata": {},
   "outputs": [
    {
     "output_type": "execute_result",
     "data": {
      "text/plain": [
       "         experience french_level                status cv_received  \\\n",
       "match_id                                                             \n",
       "10689          [8+]           A2  A03 - Offer declined  2017-04-18   \n",
       "\n",
       "         cv_validated cv_approved  match_status  race  response_time  \\\n",
       "match_id                                                               \n",
       "10689      2017-04-18  2017-04-27             1   1.0            0.0   \n",
       "\n",
       "          decision_time  status_mapped  \n",
       "match_id                                \n",
       "10689               9.0              1  "
      ],
      "text/html": "<div>\n<style scoped>\n    .dataframe tbody tr th:only-of-type {\n        vertical-align: middle;\n    }\n\n    .dataframe tbody tr th {\n        vertical-align: top;\n    }\n\n    .dataframe thead th {\n        text-align: right;\n    }\n</style>\n<table border=\"1\" class=\"dataframe\">\n  <thead>\n    <tr style=\"text-align: right;\">\n      <th></th>\n      <th>experience</th>\n      <th>french_level</th>\n      <th>status</th>\n      <th>cv_received</th>\n      <th>cv_validated</th>\n      <th>cv_approved</th>\n      <th>match_status</th>\n      <th>race</th>\n      <th>response_time</th>\n      <th>decision_time</th>\n      <th>status_mapped</th>\n    </tr>\n    <tr>\n      <th>match_id</th>\n      <th></th>\n      <th></th>\n      <th></th>\n      <th></th>\n      <th></th>\n      <th></th>\n      <th></th>\n      <th></th>\n      <th></th>\n      <th></th>\n      <th></th>\n    </tr>\n  </thead>\n  <tbody>\n    <tr>\n      <th>10689</th>\n      <td>[8+]</td>\n      <td>A2</td>\n      <td>A03 - Offer declined</td>\n      <td>2017-04-18</td>\n      <td>2017-04-18</td>\n      <td>2017-04-27</td>\n      <td>1</td>\n      <td>1.0</td>\n      <td>0.0</td>\n      <td>9.0</td>\n      <td>1</td>\n    </tr>\n  </tbody>\n</table>\n</div>"
     },
     "metadata": {},
     "execution_count": 7
    }
   ],
   "source": [
    "df.sample(1)"
   ]
  },
  {
   "source": [
    "### Remove Outliers"
   ],
   "cell_type": "markdown",
   "metadata": {}
  },
  {
   "cell_type": "code",
   "execution_count": 8,
   "metadata": {},
   "outputs": [],
   "source": [
    "rt_outliers = df.index[df['response_time'] < 0]\n",
    "dt_outliers = df.index[df['decision_time'] < 0]\n",
    "\n",
    "df.loc[rt_outliers, 'response_time'] = df.loc[rt_outliers, 'response_time'].fillna(df.response_time.mean())\n",
    "df.loc[dt_outliers, 'decision_time'] = df.loc[dt_outliers, 'decision_time'].fillna(df.decision_time.mean())"
   ]
  },
  {
   "source": [
    "### Augmenting"
   ],
   "cell_type": "markdown",
   "metadata": {}
  },
  {
   "cell_type": "code",
   "execution_count": 9,
   "metadata": {},
   "outputs": [
    {
     "output_type": "execute_result",
     "data": {
      "text/plain": [
       "match_status     0.122714\n",
       "race            -0.080555\n",
       "response_time    4.768433\n",
       "decision_time    2.667656\n",
       "status_mapped    0.122714\n",
       "dtype: float64"
      ]
     },
     "metadata": {},
     "execution_count": 9
    }
   ],
   "source": [
    "df['french_level'] = df['french_level'].fillna('0')\n",
    "df = df[df['experience'].notnull()]\n",
    "df.skew() # <- TODO address high skew"
   ]
  },
  {
   "cell_type": "code",
   "execution_count": 10,
   "metadata": {},
   "outputs": [
    {
     "output_type": "execute_result",
     "data": {
      "text/plain": [
       "               Positive Candidate  Negative Candidate\n",
       "response_time                                        \n",
       "0.0                            82                 169\n",
       "1.0                            33                  34\n",
       "2.0                             9                   9\n",
       "3.0                             3                   9\n",
       "4.0                             4                   5"
      ],
      "text/html": "<div>\n<style scoped>\n    .dataframe tbody tr th:only-of-type {\n        vertical-align: middle;\n    }\n\n    .dataframe tbody tr th {\n        vertical-align: top;\n    }\n\n    .dataframe thead th {\n        text-align: right;\n    }\n</style>\n<table border=\"1\" class=\"dataframe\">\n  <thead>\n    <tr style=\"text-align: right;\">\n      <th></th>\n      <th>Positive Candidate</th>\n      <th>Negative Candidate</th>\n    </tr>\n    <tr>\n      <th>response_time</th>\n      <th></th>\n      <th></th>\n    </tr>\n  </thead>\n  <tbody>\n    <tr>\n      <th>0.0</th>\n      <td>82</td>\n      <td>169</td>\n    </tr>\n    <tr>\n      <th>1.0</th>\n      <td>33</td>\n      <td>34</td>\n    </tr>\n    <tr>\n      <th>2.0</th>\n      <td>9</td>\n      <td>9</td>\n    </tr>\n    <tr>\n      <th>3.0</th>\n      <td>3</td>\n      <td>9</td>\n    </tr>\n    <tr>\n      <th>4.0</th>\n      <td>4</td>\n      <td>5</td>\n    </tr>\n  </tbody>\n</table>\n</div>"
     },
     "metadata": {},
     "execution_count": 10
    }
   ],
   "source": [
    "ct = pd.crosstab(df['response_time'], df['status_mapped'])\n",
    "ct.columns = ['Positive Candidate', 'Negative Candidate']\n",
    "ct.head()"
   ]
  },
  {
   "source": [
    "### Reduce skew"
   ],
   "cell_type": "markdown",
   "metadata": {}
  },
  {
   "cell_type": "code",
   "execution_count": 11,
   "metadata": {},
   "outputs": [],
   "source": [
    "# from scipy.stats import norm, skew\n",
    "\n",
    "# plt.title('Before transformation')\n",
    "# rt = df.response_time.dropna() + 1\n",
    "# sns.distplot(df.response_time)\n",
    "\n",
    "# plt.figure()\n",
    "# plt.title('After Transformation')\n",
    "# sns.distplot(rt.apply(np.log), fit=norm)"
   ]
  },
  {
   "cell_type": "code",
   "execution_count": 12,
   "metadata": {},
   "outputs": [],
   "source": [
    "# from scipy.stats import norm, skew\n",
    "# from scipy.special import boxcox1p\n",
    "\n",
    "# plt.title('Before transformation')\n",
    "# rt = df.decision_time.dropna() + 1\n",
    "# sns.distplot(df.decision_time)\n",
    "\n",
    "# plt.figure()\n",
    "# plt.title('After Transformation')\n",
    "# sns.distplot(rt.apply(np.log), fit=norm)"
   ]
  },
  {
   "source": [
    "### Label encoding\n",
    "Helps us predict on certain categories of data"
   ],
   "cell_type": "markdown",
   "metadata": {}
  },
  {
   "cell_type": "code",
   "execution_count": 13,
   "metadata": {},
   "outputs": [],
   "source": [
    "# Split decision times into groups of 20 day periods\n",
    "decision_time_splits = np.ceil(df['decision_time'].max() / 20).astype(int)\n",
    "decision_map = pd.concat(\n",
    "    pd.Series(str(i + 1), index=range(i * 20, 20 + i * 20)) \n",
    "    for i in range(decision_time_splits)\n",
    ")\n",
    "\n",
    "df['response_time'] = df['response_time'].map(decision_map)\n",
    "df['decision_time'] = df['decision_time'].map(decision_map)\n",
    "\n",
    "# Replace decision and reponse times by their log values\n",
    "df['decision_time'] = df['decision_time'].astype(float).dropna().apply(np.log)\n",
    "df['response_time'] = df['response_time'].astype(float).dropna().apply(np.log)\n",
    "\n",
    "# Rename target/dependent variable\n",
    "df.rename(index=str, columns={'status_mapped': 'y'}, inplace=True)"
   ]
  },
  {
   "source": [
    "Encode (replace unique values by integers) experience and french level"
   ],
   "cell_type": "markdown",
   "metadata": {}
  },
  {
   "cell_type": "code",
   "execution_count": 14,
   "metadata": {},
   "outputs": [],
   "source": [
    "le = LabelEncoder()\n",
    "\n",
    "le.fit(df['experience'].unique())\n",
    "df['experience'] = le.transform(df['experience'])\n",
    "\n",
    "le.fit(df['french_level'].unique())\n",
    "df['french_level'] = le.transform(df['french_level'])\n",
    "df['french_level'].fillna('0', inplace=True)\n",
    "\n",
    "le.fit(df['race'].unique())\n",
    "df['race'] = le.transform(df['race'])"
   ]
  },
  {
   "source": [
    "Remove rows with null values"
   ],
   "cell_type": "markdown",
   "metadata": {}
  },
  {
   "cell_type": "code",
   "execution_count": 15,
   "metadata": {},
   "outputs": [],
   "source": [
    "response_time_nulls = df.response_time[df.response_time.isnull()].index\n",
    "decision_time_nulls = df.decision_time[df.decision_time.isnull()].index\n",
    "french_level_nulls = df.french_level[df.french_level.isnull()].index\n",
    "\n",
    "indices_to_drop = response_time_nulls.union(decision_time_nulls).union(french_level_nulls)\n",
    "df.drop(indices_to_drop, inplace=True)"
   ]
  },
  {
   "source": [
    "### Prepare for one hot encoding"
   ],
   "cell_type": "markdown",
   "metadata": {}
  },
  {
   "cell_type": "code",
   "execution_count": 16,
   "metadata": {},
   "outputs": [
    {
     "output_type": "execute_result",
     "data": {
      "text/plain": [
       "(array([3, 2, 0, 1]), array([0, 1, 3, 4, 5, 2, 6]), array([1, 0]))"
      ]
     },
     "metadata": {},
     "execution_count": 16
    }
   ],
   "source": [
    "experience_unique = df.experience.unique()\n",
    "french_level_unique = df.french_level.unique()\n",
    "race_unique = df.race.unique()\n",
    "\n",
    "experience_unique, french_level_unique, race_unique"
   ]
  },
  {
   "cell_type": "code",
   "execution_count": 17,
   "metadata": {},
   "outputs": [],
   "source": [
    "experience_map = dict((e, int(bool(e > max(experience_unique) / 2))) for e in experience_unique)\n",
    "french_level_map = dict((f, int(bool(f + 1 > max(french_level_unique) / 2))) for f in french_level_unique)"
   ]
  },
  {
   "cell_type": "code",
   "execution_count": 18,
   "metadata": {},
   "outputs": [
    {
     "output_type": "execute_result",
     "data": {
      "text/plain": [
       "([(0, 0), (1, 0), (2, 1), (3, 1)],\n",
       " [(0, 0), (1, 0), (2, 0), (3, 1), (4, 1), (5, 1), (6, 1)])"
      ]
     },
     "metadata": {},
     "execution_count": 18
    }
   ],
   "source": [
    "sorted(experience_map.items()), sorted(french_level_map.items())"
   ]
  },
  {
   "cell_type": "code",
   "execution_count": 19,
   "metadata": {},
   "outputs": [],
   "source": [
    "df['experience'] = df['experience'].map(experience_map)\n",
    "df['french_level'] = df['french_level'].map(experience_map)"
   ]
  },
  {
   "source": [
    "### One hot encoding"
   ],
   "cell_type": "markdown",
   "metadata": {}
  },
  {
   "cell_type": "code",
   "execution_count": 20,
   "metadata": {},
   "outputs": [],
   "source": [
    "for column in ('french_level', 'experience', 'race'):\n",
    "    dummies = pd.get_dummies(df[column], prefix=f'_{column}')\n",
    "    df = df.join(dummies, how='outer').drop([column], axis=1)"
   ]
  },
  {
   "cell_type": "code",
   "execution_count": 21,
   "metadata": {},
   "outputs": [
    {
     "output_type": "execute_result",
     "data": {
      "text/plain": [
       "['status',\n",
       " 'cv_received',\n",
       " 'cv_validated',\n",
       " 'cv_approved',\n",
       " 'match_status',\n",
       " 'response_time',\n",
       " 'decision_time',\n",
       " 'y',\n",
       " '_french_level_0.0',\n",
       " '_french_level_1.0',\n",
       " '_experience_0',\n",
       " '_experience_1',\n",
       " '_race_0',\n",
       " '_race_1']"
      ]
     },
     "metadata": {},
     "execution_count": 21
    }
   ],
   "source": [
    "df.columns.to_list()"
   ]
  },
  {
   "cell_type": "code",
   "execution_count": 22,
   "metadata": {},
   "outputs": [],
   "source": [
    "df = df[[\n",
    "    'y', \n",
    "    # 'response_time', \n",
    "    # 'decision_time', \n",
    "    '_french_level_0.0', \n",
    "    '_french_level_1.0',\n",
    "    '_experience_0',\n",
    "    '_experience_1',\n",
    "    '_race_0',\n",
    "    '_race_1'\n",
    "]]"
   ]
  },
  {
   "cell_type": "code",
   "execution_count": 23,
   "metadata": {},
   "outputs": [],
   "source": [
    "y = df['y']\n",
    "X = df.drop(['y', '_experience_0', '_french_level_0.0', '_race_0'], axis=1)"
   ]
  },
  {
   "source": [
    "### Hold out & Cross validation"
   ],
   "cell_type": "markdown",
   "metadata": {}
  },
  {
   "cell_type": "code",
   "execution_count": 24,
   "metadata": {},
   "outputs": [],
   "source": [
    "# n_hold_out = 100\n",
    "# X, y = X[:-n_hold_out], y[:-n_hold_out]\n",
    "# X_cv, y_cv = X[:n_hold_out], y[:n_hold_out]"
   ]
  },
  {
   "cell_type": "code",
   "execution_count": 25,
   "metadata": {},
   "outputs": [],
   "source": [
    "# sns.heatmap(df.corr(), cmap='coolwarm', annot=True, fmt='.1f')"
   ]
  },
  {
   "source": [
    "## Split, train and predict on test set"
   ],
   "cell_type": "markdown",
   "metadata": {}
  },
  {
   "cell_type": "code",
   "execution_count": 26,
   "metadata": {},
   "outputs": [
    {
     "output_type": "stream",
     "name": "stdout",
     "text": [
      "[22:14:21] WARNING: /Users/travis/build/dmlc/xgboost/src/learner.cc:1095: Starting in XGBoost 1.3.0, the default evaluation metric used with the objective 'binary:logistic' was changed from 'error' to 'logloss'. Explicitly set eval_metric if you'd like to restore the old behavior.\n"
     ]
    },
    {
     "output_type": "execute_result",
     "data": {
      "text/plain": [
       "XGBClassifier(base_score=0.5, booster='gbtree', colsample_bylevel=1,\n",
       "              colsample_bynode=1, colsample_bytree=1, gamma=0, gpu_id=-1,\n",
       "              importance_type='gain', interaction_constraints='',\n",
       "              learning_rate=0.300000012, max_delta_step=0, max_depth=6,\n",
       "              min_child_weight=1, missing=nan, monotone_constraints='()',\n",
       "              n_estimators=100, n_jobs=8, num_parallel_tree=1, random_state=0,\n",
       "              reg_alpha=0, reg_lambda=1, scale_pos_weight=1, subsample=1,\n",
       "              tree_method='exact', validate_parameters=1, verbosity=None)"
      ]
     },
     "metadata": {},
     "execution_count": 26
    }
   ],
   "source": [
    "X_train, X_test, y_train, y_test = train_test_split(X, y, test_size=0.3, random_state=0)\n",
    "\n",
    "model = XGBClassifier()\n",
    "model.fit(X_train, y_train)"
   ]
  },
  {
   "cell_type": "code",
   "execution_count": 27,
   "metadata": {},
   "outputs": [],
   "source": [
    "y_pred = model.predict(X_test)"
   ]
  },
  {
   "cell_type": "code",
   "execution_count": 28,
   "metadata": {},
   "outputs": [
    {
     "output_type": "stream",
     "name": "stdout",
     "text": [
      "{'0': {'f1-score': 0.0, 'precision': 0.0, 'recall': 0.0, 'support': 23},\n '1': {'f1-score': 0.8685714285714284,\n       'precision': 0.7676767676767676,\n       'recall': 1.0,\n       'support': 76},\n 'accuracy': 0.7676767676767676,\n 'macro avg': {'f1-score': 0.4342857142857142,\n               'precision': 0.3838383838383838,\n               'recall': 0.5,\n               'support': 99},\n 'weighted avg': {'f1-score': 0.6667821067821067,\n                  'precision': 0.5893276196306498,\n                  'recall': 0.7676767676767676,\n                  'support': 99}}\n"
     ]
    }
   ],
   "source": [
    "from pprint import pprint\n",
    "pprint(classification_report(y_test, y_pred, output_dict=True))"
   ]
  },
  {
   "cell_type": "code",
   "execution_count": 29,
   "metadata": {},
   "outputs": [],
   "source": [
    "# plot_importance(model)"
   ]
  },
  {
   "cell_type": "code",
   "execution_count": 30,
   "metadata": {},
   "outputs": [],
   "source": [
    "explainer = shap.Explainer(model)\n",
    "shap_values = explainer(X)"
   ]
  },
  {
   "cell_type": "code",
   "execution_count": 31,
   "metadata": {},
   "outputs": [
    {
     "output_type": "display_data",
     "data": {
      "text/plain": "<Figure size 576x216 with 1 Axes>",
      "image/svg+xml": "<?xml version=\"1.0\" encoding=\"utf-8\" standalone=\"no\"?>\n<!DOCTYPE svg PUBLIC \"-//W3C//DTD SVG 1.1//EN\"\n  \"http://www.w3.org/Graphics/SVG/1.1/DTD/svg11.dtd\">\n<!-- Created with matplotlib (https://matplotlib.org/) -->\n<svg height=\"213.239531pt\" version=\"1.1\" viewBox=\"0 0 572.920781 213.239531\" width=\"572.920781pt\" xmlns=\"http://www.w3.org/2000/svg\" xmlns:xlink=\"http://www.w3.org/1999/xlink\">\n <metadata>\n  <rdf:RDF xmlns:cc=\"http://creativecommons.org/ns#\" xmlns:dc=\"http://purl.org/dc/elements/1.1/\" xmlns:rdf=\"http://www.w3.org/1999/02/22-rdf-syntax-ns#\">\n   <cc:Work>\n    <dc:type rdf:resource=\"http://purl.org/dc/dcmitype/StillImage\"/>\n    <dc:date>2021-05-29T22:14:22.432201</dc:date>\n    <dc:format>image/svg+xml</dc:format>\n    <dc:creator>\n     <cc:Agent>\n      <dc:title>Matplotlib v3.3.1, https://matplotlib.org/</dc:title>\n     </cc:Agent>\n    </dc:creator>\n   </cc:Work>\n  </rdf:RDF>\n </metadata>\n <defs>\n  <style type=\"text/css\">*{stroke-linecap:butt;stroke-linejoin:round;}</style>\n </defs>\n <g id=\"figure_1\">\n  <g id=\"patch_1\">\n   <path d=\"M 0 213.239531 \nL 572.920781 213.239531 \nL 572.920781 0 \nL 0 0 \nz\n\" style=\"fill:#ffffff;\"/>\n  </g>\n  <g id=\"axes_1\">\n   <g id=\"patch_2\">\n    <path d=\"M 119.320781 170.28 \nL 565.720781 170.28 \nL 565.720781 7.2 \nL 119.320781 7.2 \nz\n\" style=\"fill:#eaeaf2;\"/>\n   </g>\n   <g id=\"line2d_1\">\n    <path clip-path=\"url(#pdd024e1880)\" d=\"M 119.320781 143.649091 \nL 565.720781 143.649091 \n\" style=\"fill:none;stroke:#888888;stroke-dasharray:0.5,2.5;stroke-dashoffset:0;stroke-width:0.5;\"/>\n   </g>\n   <g id=\"line2d_2\">\n    <path clip-path=\"url(#pdd024e1880)\" d=\"M 119.320781 88.74 \nL 565.720781 88.74 \n\" style=\"fill:none;stroke:#888888;stroke-dasharray:0.5,2.5;stroke-dashoffset:0;stroke-width:0.5;\"/>\n   </g>\n   <g id=\"line2d_3\">\n    <path clip-path=\"url(#pdd024e1880)\" d=\"M 119.320781 33.830909 \nL 565.720781 33.830909 \n\" style=\"fill:none;stroke:#888888;stroke-dasharray:0.5,2.5;stroke-dashoffset:0;stroke-width:0.5;\"/>\n   </g>\n   <g id=\"matplotlib.axis_1\">\n    <g id=\"xtick_1\">\n     <g id=\"line2d_4\">\n      <path clip-path=\"url(#pdd024e1880)\" d=\"M 119.320781 170.28 \nL 119.320781 7.2 \n\" style=\"fill:none;stroke:#ffffff;stroke-linecap:round;\"/>\n     </g>\n     <g id=\"line2d_5\">\n      <defs>\n       <path d=\"M 0 0 \nL 0 6 \n\" id=\"m4cd87a4308\" style=\"stroke:#262626;stroke-width:1.25;\"/>\n      </defs>\n      <g>\n       <use style=\"fill:#262626;stroke:#262626;stroke-width:1.25;\" x=\"119.320781\" xlink:href=\"#m4cd87a4308\" y=\"170.28\"/>\n      </g>\n     </g>\n     <g id=\"text_1\">\n      <!-- 0.00 -->\n      <g style=\"fill:#262626;\" transform=\"translate(108.617266 187.653594)scale(0.11 -0.11)\">\n       <defs>\n        <path d=\"M 4.15625 35.296875 \nQ 4.15625 48 6.765625 55.734375 \nQ 9.375 63.484375 14.515625 67.671875 \nQ 19.671875 71.875 27.484375 71.875 \nQ 33.25 71.875 37.59375 69.546875 \nQ 41.9375 67.234375 44.765625 62.859375 \nQ 47.609375 58.5 49.21875 52.21875 \nQ 50.828125 45.953125 50.828125 35.296875 \nQ 50.828125 22.703125 48.234375 14.96875 \nQ 45.65625 7.234375 40.5 3 \nQ 35.359375 -1.21875 27.484375 -1.21875 \nQ 17.140625 -1.21875 11.234375 6.203125 \nQ 4.15625 15.140625 4.15625 35.296875 \nz\nM 13.1875 35.296875 \nQ 13.1875 17.671875 17.3125 11.828125 \nQ 21.4375 6 27.484375 6 \nQ 33.546875 6 37.671875 11.859375 \nQ 41.796875 17.71875 41.796875 35.296875 \nQ 41.796875 52.984375 37.671875 58.78125 \nQ 33.546875 64.59375 27.390625 64.59375 \nQ 21.34375 64.59375 17.71875 59.46875 \nQ 13.1875 52.9375 13.1875 35.296875 \nz\n\" id=\"ArialMT-48\"/>\n        <path d=\"M 9.078125 0 \nL 9.078125 10.015625 \nL 19.09375 10.015625 \nL 19.09375 0 \nz\n\" id=\"ArialMT-46\"/>\n       </defs>\n       <use xlink:href=\"#ArialMT-48\"/>\n       <use x=\"55.615234\" xlink:href=\"#ArialMT-46\"/>\n       <use x=\"83.398438\" xlink:href=\"#ArialMT-48\"/>\n       <use x=\"139.013672\" xlink:href=\"#ArialMT-48\"/>\n      </g>\n     </g>\n    </g>\n    <g id=\"xtick_2\">\n     <g id=\"line2d_6\">\n      <path clip-path=\"url(#pdd024e1880)\" d=\"M 169.432394 170.28 \nL 169.432394 7.2 \n\" style=\"fill:none;stroke:#ffffff;stroke-linecap:round;\"/>\n     </g>\n     <g id=\"line2d_7\">\n      <g>\n       <use style=\"fill:#262626;stroke:#262626;stroke-width:1.25;\" x=\"169.432394\" xlink:href=\"#m4cd87a4308\" y=\"170.28\"/>\n      </g>\n     </g>\n     <g id=\"text_2\">\n      <!-- 0.05 -->\n      <g style=\"fill:#262626;\" transform=\"translate(158.728878 187.653594)scale(0.11 -0.11)\">\n       <defs>\n        <path d=\"M 4.15625 18.75 \nL 13.375 19.53125 \nQ 14.40625 12.796875 18.140625 9.390625 \nQ 21.875 6 27.15625 6 \nQ 33.5 6 37.890625 10.78125 \nQ 42.28125 15.578125 42.28125 23.484375 \nQ 42.28125 31 38.0625 35.34375 \nQ 33.84375 39.703125 27 39.703125 \nQ 22.75 39.703125 19.328125 37.765625 \nQ 15.921875 35.84375 13.96875 32.765625 \nL 5.71875 33.84375 \nL 12.640625 70.609375 \nL 48.25 70.609375 \nL 48.25 62.203125 \nL 19.671875 62.203125 \nL 15.828125 42.96875 \nQ 22.265625 47.46875 29.34375 47.46875 \nQ 38.71875 47.46875 45.15625 40.96875 \nQ 51.609375 34.46875 51.609375 24.265625 \nQ 51.609375 14.546875 45.953125 7.46875 \nQ 39.0625 -1.21875 27.15625 -1.21875 \nQ 17.390625 -1.21875 11.203125 4.25 \nQ 5.03125 9.71875 4.15625 18.75 \nz\n\" id=\"ArialMT-53\"/>\n       </defs>\n       <use xlink:href=\"#ArialMT-48\"/>\n       <use x=\"55.615234\" xlink:href=\"#ArialMT-46\"/>\n       <use x=\"83.398438\" xlink:href=\"#ArialMT-48\"/>\n       <use x=\"139.013672\" xlink:href=\"#ArialMT-53\"/>\n      </g>\n     </g>\n    </g>\n    <g id=\"xtick_3\">\n     <g id=\"line2d_8\">\n      <path clip-path=\"url(#pdd024e1880)\" d=\"M 219.544006 170.28 \nL 219.544006 7.2 \n\" style=\"fill:none;stroke:#ffffff;stroke-linecap:round;\"/>\n     </g>\n     <g id=\"line2d_9\">\n      <g>\n       <use style=\"fill:#262626;stroke:#262626;stroke-width:1.25;\" x=\"219.544006\" xlink:href=\"#m4cd87a4308\" y=\"170.28\"/>\n      </g>\n     </g>\n     <g id=\"text_3\">\n      <!-- 0.10 -->\n      <g style=\"fill:#262626;\" transform=\"translate(208.84049 187.653594)scale(0.11 -0.11)\">\n       <defs>\n        <path d=\"M 37.25 0 \nL 28.46875 0 \nL 28.46875 56 \nQ 25.296875 52.984375 20.140625 49.953125 \nQ 14.984375 46.921875 10.890625 45.40625 \nL 10.890625 53.90625 \nQ 18.265625 57.375 23.78125 62.296875 \nQ 29.296875 67.234375 31.59375 71.875 \nL 37.25 71.875 \nz\n\" id=\"ArialMT-49\"/>\n       </defs>\n       <use xlink:href=\"#ArialMT-48\"/>\n       <use x=\"55.615234\" xlink:href=\"#ArialMT-46\"/>\n       <use x=\"83.398438\" xlink:href=\"#ArialMT-49\"/>\n       <use x=\"139.013672\" xlink:href=\"#ArialMT-48\"/>\n      </g>\n     </g>\n    </g>\n    <g id=\"xtick_4\">\n     <g id=\"line2d_10\">\n      <path clip-path=\"url(#pdd024e1880)\" d=\"M 269.655618 170.28 \nL 269.655618 7.2 \n\" style=\"fill:none;stroke:#ffffff;stroke-linecap:round;\"/>\n     </g>\n     <g id=\"line2d_11\">\n      <g>\n       <use style=\"fill:#262626;stroke:#262626;stroke-width:1.25;\" x=\"269.655618\" xlink:href=\"#m4cd87a4308\" y=\"170.28\"/>\n      </g>\n     </g>\n     <g id=\"text_4\">\n      <!-- 0.15 -->\n      <g style=\"fill:#262626;\" transform=\"translate(258.952103 187.653594)scale(0.11 -0.11)\">\n       <use xlink:href=\"#ArialMT-48\"/>\n       <use x=\"55.615234\" xlink:href=\"#ArialMT-46\"/>\n       <use x=\"83.398438\" xlink:href=\"#ArialMT-49\"/>\n       <use x=\"139.013672\" xlink:href=\"#ArialMT-53\"/>\n      </g>\n     </g>\n    </g>\n    <g id=\"xtick_5\">\n     <g id=\"line2d_12\">\n      <path clip-path=\"url(#pdd024e1880)\" d=\"M 319.767231 170.28 \nL 319.767231 7.2 \n\" style=\"fill:none;stroke:#ffffff;stroke-linecap:round;\"/>\n     </g>\n     <g id=\"line2d_13\">\n      <g>\n       <use style=\"fill:#262626;stroke:#262626;stroke-width:1.25;\" x=\"319.767231\" xlink:href=\"#m4cd87a4308\" y=\"170.28\"/>\n      </g>\n     </g>\n     <g id=\"text_5\">\n      <!-- 0.20 -->\n      <g style=\"fill:#262626;\" transform=\"translate(309.063715 187.653594)scale(0.11 -0.11)\">\n       <defs>\n        <path d=\"M 50.34375 8.453125 \nL 50.34375 0 \nL 3.03125 0 \nQ 2.9375 3.171875 4.046875 6.109375 \nQ 5.859375 10.9375 9.828125 15.625 \nQ 13.8125 20.3125 21.34375 26.46875 \nQ 33.015625 36.03125 37.109375 41.625 \nQ 41.21875 47.21875 41.21875 52.203125 \nQ 41.21875 57.421875 37.46875 61 \nQ 33.734375 64.59375 27.734375 64.59375 \nQ 21.390625 64.59375 17.578125 60.78125 \nQ 13.765625 56.984375 13.71875 50.25 \nL 4.6875 51.171875 \nQ 5.609375 61.28125 11.65625 66.578125 \nQ 17.71875 71.875 27.9375 71.875 \nQ 38.234375 71.875 44.234375 66.15625 \nQ 50.25 60.453125 50.25 52 \nQ 50.25 47.703125 48.484375 43.546875 \nQ 46.734375 39.40625 42.65625 34.8125 \nQ 38.578125 30.21875 29.109375 22.21875 \nQ 21.1875 15.578125 18.9375 13.203125 \nQ 16.703125 10.84375 15.234375 8.453125 \nz\n\" id=\"ArialMT-50\"/>\n       </defs>\n       <use xlink:href=\"#ArialMT-48\"/>\n       <use x=\"55.615234\" xlink:href=\"#ArialMT-46\"/>\n       <use x=\"83.398438\" xlink:href=\"#ArialMT-50\"/>\n       <use x=\"139.013672\" xlink:href=\"#ArialMT-48\"/>\n      </g>\n     </g>\n    </g>\n    <g id=\"xtick_6\">\n     <g id=\"line2d_14\">\n      <path clip-path=\"url(#pdd024e1880)\" d=\"M 369.878843 170.28 \nL 369.878843 7.2 \n\" style=\"fill:none;stroke:#ffffff;stroke-linecap:round;\"/>\n     </g>\n     <g id=\"line2d_15\">\n      <g>\n       <use style=\"fill:#262626;stroke:#262626;stroke-width:1.25;\" x=\"369.878843\" xlink:href=\"#m4cd87a4308\" y=\"170.28\"/>\n      </g>\n     </g>\n     <g id=\"text_6\">\n      <!-- 0.25 -->\n      <g style=\"fill:#262626;\" transform=\"translate(359.175328 187.653594)scale(0.11 -0.11)\">\n       <use xlink:href=\"#ArialMT-48\"/>\n       <use x=\"55.615234\" xlink:href=\"#ArialMT-46\"/>\n       <use x=\"83.398438\" xlink:href=\"#ArialMT-50\"/>\n       <use x=\"139.013672\" xlink:href=\"#ArialMT-53\"/>\n      </g>\n     </g>\n    </g>\n    <g id=\"xtick_7\">\n     <g id=\"line2d_16\">\n      <path clip-path=\"url(#pdd024e1880)\" d=\"M 419.990456 170.28 \nL 419.990456 7.2 \n\" style=\"fill:none;stroke:#ffffff;stroke-linecap:round;\"/>\n     </g>\n     <g id=\"line2d_17\">\n      <g>\n       <use style=\"fill:#262626;stroke:#262626;stroke-width:1.25;\" x=\"419.990456\" xlink:href=\"#m4cd87a4308\" y=\"170.28\"/>\n      </g>\n     </g>\n     <g id=\"text_7\">\n      <!-- 0.30 -->\n      <g style=\"fill:#262626;\" transform=\"translate(409.28694 187.653594)scale(0.11 -0.11)\">\n       <defs>\n        <path d=\"M 4.203125 18.890625 \nL 12.984375 20.0625 \nQ 14.5 12.59375 18.140625 9.296875 \nQ 21.78125 6 27 6 \nQ 33.203125 6 37.46875 10.296875 \nQ 41.75 14.59375 41.75 20.953125 \nQ 41.75 27 37.796875 30.921875 \nQ 33.84375 34.859375 27.734375 34.859375 \nQ 25.25 34.859375 21.53125 33.890625 \nL 22.515625 41.609375 \nQ 23.390625 41.5 23.921875 41.5 \nQ 29.546875 41.5 34.03125 44.421875 \nQ 38.53125 47.359375 38.53125 53.46875 \nQ 38.53125 58.296875 35.25 61.46875 \nQ 31.984375 64.65625 26.8125 64.65625 \nQ 21.6875 64.65625 18.265625 61.421875 \nQ 14.84375 58.203125 13.875 51.765625 \nL 5.078125 53.328125 \nQ 6.6875 62.15625 12.390625 67.015625 \nQ 18.109375 71.875 26.609375 71.875 \nQ 32.46875 71.875 37.390625 69.359375 \nQ 42.328125 66.84375 44.9375 62.5 \nQ 47.5625 58.15625 47.5625 53.265625 \nQ 47.5625 48.640625 45.0625 44.828125 \nQ 42.578125 41.015625 37.703125 38.765625 \nQ 44.046875 37.3125 47.5625 32.6875 \nQ 51.078125 28.078125 51.078125 21.140625 \nQ 51.078125 11.765625 44.234375 5.25 \nQ 37.40625 -1.265625 26.953125 -1.265625 \nQ 17.53125 -1.265625 11.296875 4.34375 \nQ 5.078125 9.96875 4.203125 18.890625 \nz\n\" id=\"ArialMT-51\"/>\n       </defs>\n       <use xlink:href=\"#ArialMT-48\"/>\n       <use x=\"55.615234\" xlink:href=\"#ArialMT-46\"/>\n       <use x=\"83.398438\" xlink:href=\"#ArialMT-51\"/>\n       <use x=\"139.013672\" xlink:href=\"#ArialMT-48\"/>\n      </g>\n     </g>\n    </g>\n    <g id=\"xtick_8\">\n     <g id=\"line2d_18\">\n      <path clip-path=\"url(#pdd024e1880)\" d=\"M 470.102068 170.28 \nL 470.102068 7.2 \n\" style=\"fill:none;stroke:#ffffff;stroke-linecap:round;\"/>\n     </g>\n     <g id=\"line2d_19\">\n      <g>\n       <use style=\"fill:#262626;stroke:#262626;stroke-width:1.25;\" x=\"470.102068\" xlink:href=\"#m4cd87a4308\" y=\"170.28\"/>\n      </g>\n     </g>\n     <g id=\"text_8\">\n      <!-- 0.35 -->\n      <g style=\"fill:#262626;\" transform=\"translate(459.398552 187.653594)scale(0.11 -0.11)\">\n       <use xlink:href=\"#ArialMT-48\"/>\n       <use x=\"55.615234\" xlink:href=\"#ArialMT-46\"/>\n       <use x=\"83.398438\" xlink:href=\"#ArialMT-51\"/>\n       <use x=\"139.013672\" xlink:href=\"#ArialMT-53\"/>\n      </g>\n     </g>\n    </g>\n    <g id=\"xtick_9\">\n     <g id=\"line2d_20\">\n      <path clip-path=\"url(#pdd024e1880)\" d=\"M 520.21368 170.28 \nL 520.21368 7.2 \n\" style=\"fill:none;stroke:#ffffff;stroke-linecap:round;\"/>\n     </g>\n     <g id=\"line2d_21\">\n      <g>\n       <use style=\"fill:#262626;stroke:#262626;stroke-width:1.25;\" x=\"520.21368\" xlink:href=\"#m4cd87a4308\" y=\"170.28\"/>\n      </g>\n     </g>\n     <g id=\"text_9\">\n      <!-- 0.40 -->\n      <g style=\"fill:#262626;\" transform=\"translate(509.510165 187.653594)scale(0.11 -0.11)\">\n       <defs>\n        <path d=\"M 32.328125 0 \nL 32.328125 17.140625 \nL 1.265625 17.140625 \nL 1.265625 25.203125 \nL 33.9375 71.578125 \nL 41.109375 71.578125 \nL 41.109375 25.203125 \nL 50.78125 25.203125 \nL 50.78125 17.140625 \nL 41.109375 17.140625 \nL 41.109375 0 \nz\nM 32.328125 25.203125 \nL 32.328125 57.46875 \nL 9.90625 25.203125 \nz\n\" id=\"ArialMT-52\"/>\n       </defs>\n       <use xlink:href=\"#ArialMT-48\"/>\n       <use x=\"55.615234\" xlink:href=\"#ArialMT-46\"/>\n       <use x=\"83.398438\" xlink:href=\"#ArialMT-52\"/>\n       <use x=\"139.013672\" xlink:href=\"#ArialMT-48\"/>\n      </g>\n     </g>\n    </g>\n    <g id=\"text_10\">\n     <!-- mean(|SHAP value|) -->\n     <g style=\"fill:#262626;\" transform=\"translate(283.624687 203.303438)scale(0.13 -0.13)\">\n      <defs>\n       <path d=\"M 6.59375 0 \nL 6.59375 51.859375 \nL 14.453125 51.859375 \nL 14.453125 44.578125 \nQ 16.890625 48.390625 20.9375 50.703125 \nQ 25 53.03125 30.171875 53.03125 \nQ 35.9375 53.03125 39.625 50.640625 \nQ 43.3125 48.25 44.828125 43.953125 \nQ 50.984375 53.03125 60.84375 53.03125 \nQ 68.5625 53.03125 72.703125 48.75 \nQ 76.859375 44.484375 76.859375 35.59375 \nL 76.859375 0 \nL 68.109375 0 \nL 68.109375 32.671875 \nQ 68.109375 37.9375 67.25 40.25 \nQ 66.40625 42.578125 64.15625 43.984375 \nQ 61.921875 45.40625 58.890625 45.40625 \nQ 53.421875 45.40625 49.796875 41.765625 \nQ 46.1875 38.140625 46.1875 30.125 \nL 46.1875 0 \nL 37.40625 0 \nL 37.40625 33.6875 \nQ 37.40625 39.546875 35.25 42.46875 \nQ 33.109375 45.40625 28.21875 45.40625 \nQ 24.515625 45.40625 21.359375 43.453125 \nQ 18.21875 41.5 16.796875 37.734375 \nQ 15.375 33.984375 15.375 26.90625 \nL 15.375 0 \nz\n\" id=\"ArialMT-109\"/>\n       <path d=\"M 42.09375 16.703125 \nL 51.171875 15.578125 \nQ 49.03125 7.625 43.21875 3.21875 \nQ 37.40625 -1.171875 28.375 -1.171875 \nQ 17 -1.171875 10.328125 5.828125 \nQ 3.65625 12.84375 3.65625 25.484375 \nQ 3.65625 38.578125 10.390625 45.796875 \nQ 17.140625 53.03125 27.875 53.03125 \nQ 38.28125 53.03125 44.875 45.953125 \nQ 51.46875 38.875 51.46875 26.03125 \nQ 51.46875 25.25 51.421875 23.6875 \nL 12.75 23.6875 \nQ 13.234375 15.140625 17.578125 10.59375 \nQ 21.921875 6.0625 28.421875 6.0625 \nQ 33.25 6.0625 36.671875 8.59375 \nQ 40.09375 11.140625 42.09375 16.703125 \nz\nM 13.234375 30.90625 \nL 42.1875 30.90625 \nQ 41.609375 37.453125 38.875 40.71875 \nQ 34.671875 45.796875 27.984375 45.796875 \nQ 21.921875 45.796875 17.796875 41.75 \nQ 13.671875 37.703125 13.234375 30.90625 \nz\n\" id=\"ArialMT-101\"/>\n       <path d=\"M 40.4375 6.390625 \nQ 35.546875 2.25 31.03125 0.53125 \nQ 26.515625 -1.171875 21.34375 -1.171875 \nQ 12.796875 -1.171875 8.203125 3 \nQ 3.609375 7.171875 3.609375 13.671875 \nQ 3.609375 17.484375 5.34375 20.625 \nQ 7.078125 23.78125 9.890625 25.6875 \nQ 12.703125 27.59375 16.21875 28.5625 \nQ 18.796875 29.25 24.03125 29.890625 \nQ 34.671875 31.15625 39.703125 32.90625 \nQ 39.75 34.71875 39.75 35.203125 \nQ 39.75 40.578125 37.25 42.78125 \nQ 33.890625 45.75 27.25 45.75 \nQ 21.046875 45.75 18.09375 43.578125 \nQ 15.140625 41.40625 13.71875 35.890625 \nL 5.125 37.0625 \nQ 6.296875 42.578125 8.984375 45.96875 \nQ 11.671875 49.359375 16.75 51.1875 \nQ 21.828125 53.03125 28.515625 53.03125 \nQ 35.15625 53.03125 39.296875 51.46875 \nQ 43.453125 49.90625 45.40625 47.53125 \nQ 47.359375 45.171875 48.140625 41.546875 \nQ 48.578125 39.3125 48.578125 33.453125 \nL 48.578125 21.734375 \nQ 48.578125 9.46875 49.140625 6.21875 \nQ 49.703125 2.984375 51.375 0 \nL 42.1875 0 \nQ 40.828125 2.734375 40.4375 6.390625 \nz\nM 39.703125 26.03125 \nQ 34.90625 24.078125 25.34375 22.703125 \nQ 19.921875 21.921875 17.671875 20.9375 \nQ 15.4375 19.96875 14.203125 18.09375 \nQ 12.984375 16.21875 12.984375 13.921875 \nQ 12.984375 10.40625 15.640625 8.0625 \nQ 18.3125 5.71875 23.4375 5.71875 \nQ 28.515625 5.71875 32.46875 7.9375 \nQ 36.421875 10.15625 38.28125 14.015625 \nQ 39.703125 17 39.703125 22.796875 \nz\n\" id=\"ArialMT-97\"/>\n       <path d=\"M 6.59375 0 \nL 6.59375 51.859375 \nL 14.5 51.859375 \nL 14.5 44.484375 \nQ 20.21875 53.03125 31 53.03125 \nQ 35.6875 53.03125 39.625 51.34375 \nQ 43.5625 49.65625 45.515625 46.921875 \nQ 47.46875 44.1875 48.25 40.4375 \nQ 48.734375 37.984375 48.734375 31.890625 \nL 48.734375 0 \nL 39.9375 0 \nL 39.9375 31.546875 \nQ 39.9375 36.921875 38.90625 39.578125 \nQ 37.890625 42.234375 35.28125 43.8125 \nQ 32.671875 45.40625 29.15625 45.40625 \nQ 23.53125 45.40625 19.453125 41.84375 \nQ 15.375 38.28125 15.375 28.328125 \nL 15.375 0 \nz\n\" id=\"ArialMT-110\"/>\n       <path d=\"M 23.390625 -21.046875 \nQ 16.109375 -11.859375 11.078125 0.4375 \nQ 6.0625 12.75 6.0625 25.921875 \nQ 6.0625 37.546875 9.8125 48.1875 \nQ 14.203125 60.546875 23.390625 72.796875 \nL 29.6875 72.796875 \nQ 23.78125 62.640625 21.875 58.296875 \nQ 18.890625 51.5625 17.1875 44.234375 \nQ 15.09375 35.109375 15.09375 25.875 \nQ 15.09375 2.390625 29.6875 -21.046875 \nz\n\" id=\"ArialMT-40\"/>\n       <path d=\"M 9.1875 -21.046875 \nL 9.1875 72.796875 \nL 16.84375 72.796875 \nL 16.84375 -21.046875 \nz\n\" id=\"ArialMT-124\"/>\n       <path d=\"M 4.5 23 \nL 13.421875 23.78125 \nQ 14.0625 18.40625 16.375 14.96875 \nQ 18.703125 11.53125 23.578125 9.40625 \nQ 28.46875 7.28125 34.578125 7.28125 \nQ 39.984375 7.28125 44.140625 8.890625 \nQ 48.296875 10.5 50.3125 13.296875 \nQ 52.34375 16.109375 52.34375 19.4375 \nQ 52.34375 22.796875 50.390625 25.3125 \nQ 48.4375 27.828125 43.953125 29.546875 \nQ 41.0625 30.671875 31.203125 33.03125 \nQ 21.34375 35.40625 17.390625 37.5 \nQ 12.25 40.1875 9.734375 44.15625 \nQ 7.234375 48.140625 7.234375 53.078125 \nQ 7.234375 58.5 10.296875 63.203125 \nQ 13.375 67.921875 19.28125 70.359375 \nQ 25.203125 72.796875 32.421875 72.796875 \nQ 40.375 72.796875 46.453125 70.234375 \nQ 52.546875 67.671875 55.8125 62.6875 \nQ 59.078125 57.71875 59.328125 51.421875 \nL 50.25 50.734375 \nQ 49.515625 57.515625 45.28125 60.984375 \nQ 41.0625 64.453125 32.8125 64.453125 \nQ 24.21875 64.453125 20.28125 61.296875 \nQ 16.359375 58.15625 16.359375 53.71875 \nQ 16.359375 49.859375 19.140625 47.359375 \nQ 21.875 44.875 33.421875 42.265625 \nQ 44.96875 39.65625 49.265625 37.703125 \nQ 55.515625 34.8125 58.484375 30.390625 \nQ 61.46875 25.984375 61.46875 20.21875 \nQ 61.46875 14.5 58.203125 9.4375 \nQ 54.9375 4.390625 48.796875 1.578125 \nQ 42.671875 -1.21875 35.015625 -1.21875 \nQ 25.296875 -1.21875 18.71875 1.609375 \nQ 12.15625 4.4375 8.421875 10.125 \nQ 4.6875 15.828125 4.5 23 \nz\n\" id=\"ArialMT-83\"/>\n       <path d=\"M 8.015625 0 \nL 8.015625 71.578125 \nL 17.484375 71.578125 \nL 17.484375 42.1875 \nL 54.6875 42.1875 \nL 54.6875 71.578125 \nL 64.15625 71.578125 \nL 64.15625 0 \nL 54.6875 0 \nL 54.6875 33.734375 \nL 17.484375 33.734375 \nL 17.484375 0 \nz\n\" id=\"ArialMT-72\"/>\n       <path d=\"M -0.140625 0 \nL 27.34375 71.578125 \nL 37.546875 71.578125 \nL 66.84375 0 \nL 56.0625 0 \nL 47.703125 21.6875 \nL 17.78125 21.6875 \nL 9.90625 0 \nz\nM 20.515625 29.390625 \nL 44.78125 29.390625 \nL 37.3125 49.21875 \nQ 33.890625 58.25 32.234375 64.0625 \nQ 30.859375 57.171875 28.375 50.390625 \nz\n\" id=\"ArialMT-65\"/>\n       <path d=\"M 7.71875 0 \nL 7.71875 71.578125 \nL 34.71875 71.578125 \nQ 41.84375 71.578125 45.609375 70.90625 \nQ 50.875 70.015625 54.4375 67.546875 \nQ 58.015625 65.09375 60.1875 60.640625 \nQ 62.359375 56.203125 62.359375 50.875 \nQ 62.359375 41.75 56.546875 35.421875 \nQ 50.734375 29.109375 35.546875 29.109375 \nL 17.1875 29.109375 \nL 17.1875 0 \nz\nM 17.1875 37.546875 \nL 35.6875 37.546875 \nQ 44.875 37.546875 48.734375 40.96875 \nQ 52.59375 44.390625 52.59375 50.59375 \nQ 52.59375 55.078125 50.3125 58.265625 \nQ 48.046875 61.46875 44.34375 62.5 \nQ 41.9375 63.140625 35.5 63.140625 \nL 17.1875 63.140625 \nz\n\" id=\"ArialMT-80\"/>\n       <path id=\"ArialMT-32\"/>\n       <path d=\"M 21 0 \nL 1.265625 51.859375 \nL 10.546875 51.859375 \nL 21.6875 20.796875 \nQ 23.484375 15.765625 25 10.359375 \nQ 26.171875 14.453125 28.265625 20.21875 \nL 39.796875 51.859375 \nL 48.828125 51.859375 \nL 29.203125 0 \nz\n\" id=\"ArialMT-118\"/>\n       <path d=\"M 6.390625 0 \nL 6.390625 71.578125 \nL 15.1875 71.578125 \nL 15.1875 0 \nz\n\" id=\"ArialMT-108\"/>\n       <path d=\"M 40.578125 0 \nL 40.578125 7.625 \nQ 34.515625 -1.171875 24.125 -1.171875 \nQ 19.53125 -1.171875 15.546875 0.578125 \nQ 11.578125 2.34375 9.640625 5 \nQ 7.71875 7.671875 6.9375 11.53125 \nQ 6.390625 14.109375 6.390625 19.734375 \nL 6.390625 51.859375 \nL 15.1875 51.859375 \nL 15.1875 23.09375 \nQ 15.1875 16.21875 15.71875 13.8125 \nQ 16.546875 10.359375 19.234375 8.375 \nQ 21.921875 6.390625 25.875 6.390625 \nQ 29.828125 6.390625 33.296875 8.421875 \nQ 36.765625 10.453125 38.203125 13.9375 \nQ 39.65625 17.4375 39.65625 24.078125 \nL 39.65625 51.859375 \nL 48.4375 51.859375 \nL 48.4375 0 \nz\n\" id=\"ArialMT-117\"/>\n       <path d=\"M 12.359375 -21.046875 \nL 6.0625 -21.046875 \nQ 20.65625 2.390625 20.65625 25.875 \nQ 20.65625 35.0625 18.5625 44.09375 \nQ 16.890625 51.421875 13.921875 58.15625 \nQ 12.015625 62.546875 6.0625 72.796875 \nL 12.359375 72.796875 \nQ 21.53125 60.546875 25.921875 48.1875 \nQ 29.6875 37.546875 29.6875 25.921875 \nQ 29.6875 12.75 24.625 0.4375 \nQ 19.578125 -11.859375 12.359375 -21.046875 \nz\n\" id=\"ArialMT-41\"/>\n      </defs>\n      <use xlink:href=\"#ArialMT-109\"/>\n      <use x=\"83.300781\" xlink:href=\"#ArialMT-101\"/>\n      <use x=\"138.916016\" xlink:href=\"#ArialMT-97\"/>\n      <use x=\"194.53125\" xlink:href=\"#ArialMT-110\"/>\n      <use x=\"250.146484\" xlink:href=\"#ArialMT-40\"/>\n      <use x=\"283.447266\" xlink:href=\"#ArialMT-124\"/>\n      <use x=\"309.423828\" xlink:href=\"#ArialMT-83\"/>\n      <use x=\"376.123047\" xlink:href=\"#ArialMT-72\"/>\n      <use x=\"448.339844\" xlink:href=\"#ArialMT-65\"/>\n      <use x=\"515.039062\" xlink:href=\"#ArialMT-80\"/>\n      <use x=\"579.988281\" xlink:href=\"#ArialMT-32\"/>\n      <use x=\"607.771484\" xlink:href=\"#ArialMT-118\"/>\n      <use x=\"657.771484\" xlink:href=\"#ArialMT-97\"/>\n      <use x=\"713.386719\" xlink:href=\"#ArialMT-108\"/>\n      <use x=\"735.603516\" xlink:href=\"#ArialMT-117\"/>\n      <use x=\"791.21875\" xlink:href=\"#ArialMT-101\"/>\n      <use x=\"846.833984\" xlink:href=\"#ArialMT-124\"/>\n      <use x=\"872.810547\" xlink:href=\"#ArialMT-41\"/>\n     </g>\n    </g>\n   </g>\n   <g id=\"matplotlib.axis_2\">\n    <g id=\"ytick_1\">\n     <g id=\"line2d_22\">\n      <path clip-path=\"url(#pdd024e1880)\" d=\"M 119.320781 33.830909 \nL 565.720781 33.830909 \n\" style=\"fill:none;stroke:#ffffff;stroke-linecap:round;\"/>\n     </g>\n     <g id=\"text_11\">\n      <!-- _experience_1 -->\n      <g style=\"fill:#999999;\" transform=\"translate(24.540781 38.502784)scale(0.13 -0.13)\">\n       <defs>\n        <path d=\"M -1.515625 -19.875 \nL -1.515625 -13.53125 \nL 56.734375 -13.53125 \nL 56.734375 -19.875 \nz\n\" id=\"ArialMT-95\"/>\n        <path d=\"M 0.734375 0 \nL 19.671875 26.953125 \nL 2.15625 51.859375 \nL 13.140625 51.859375 \nL 21.09375 39.703125 \nQ 23.34375 36.234375 24.703125 33.890625 \nQ 26.859375 37.109375 28.65625 39.59375 \nL 37.40625 51.859375 \nL 47.90625 51.859375 \nL 29.984375 27.4375 \nL 49.265625 0 \nL 38.484375 0 \nL 27.828125 16.109375 \nL 25 20.453125 \nL 11.375 0 \nz\n\" id=\"ArialMT-120\"/>\n        <path d=\"M 6.59375 -19.875 \nL 6.59375 51.859375 \nL 14.59375 51.859375 \nL 14.59375 45.125 \nQ 17.4375 49.078125 21 51.046875 \nQ 24.5625 53.03125 29.640625 53.03125 \nQ 36.28125 53.03125 41.359375 49.609375 \nQ 46.4375 46.1875 49.015625 39.953125 \nQ 51.609375 33.734375 51.609375 26.3125 \nQ 51.609375 18.359375 48.75 11.984375 \nQ 45.90625 5.609375 40.453125 2.21875 \nQ 35.015625 -1.171875 29 -1.171875 \nQ 24.609375 -1.171875 21.109375 0.6875 \nQ 17.625 2.546875 15.375 5.375 \nL 15.375 -19.875 \nz\nM 14.546875 25.640625 \nQ 14.546875 15.625 18.59375 10.84375 \nQ 22.65625 6.0625 28.421875 6.0625 \nQ 34.28125 6.0625 38.453125 11.015625 \nQ 42.625 15.96875 42.625 26.375 \nQ 42.625 36.28125 38.546875 41.203125 \nQ 34.46875 46.140625 28.8125 46.140625 \nQ 23.1875 46.140625 18.859375 40.890625 \nQ 14.546875 35.640625 14.546875 25.640625 \nz\n\" id=\"ArialMT-112\"/>\n        <path d=\"M 6.5 0 \nL 6.5 51.859375 \nL 14.40625 51.859375 \nL 14.40625 44 \nQ 17.4375 49.515625 20 51.265625 \nQ 22.5625 53.03125 25.640625 53.03125 \nQ 30.078125 53.03125 34.671875 50.203125 \nL 31.640625 42.046875 \nQ 28.421875 43.953125 25.203125 43.953125 \nQ 22.3125 43.953125 20.015625 42.21875 \nQ 17.71875 40.484375 16.75 37.40625 \nQ 15.28125 32.71875 15.28125 27.15625 \nL 15.28125 0 \nz\n\" id=\"ArialMT-114\"/>\n        <path d=\"M 6.640625 61.46875 \nL 6.640625 71.578125 \nL 15.4375 71.578125 \nL 15.4375 61.46875 \nz\nM 6.640625 0 \nL 6.640625 51.859375 \nL 15.4375 51.859375 \nL 15.4375 0 \nz\n\" id=\"ArialMT-105\"/>\n        <path d=\"M 40.4375 19 \nL 49.078125 17.875 \nQ 47.65625 8.9375 41.8125 3.875 \nQ 35.984375 -1.171875 27.484375 -1.171875 \nQ 16.84375 -1.171875 10.375 5.78125 \nQ 3.90625 12.75 3.90625 25.734375 \nQ 3.90625 34.125 6.6875 40.421875 \nQ 9.46875 46.734375 15.15625 49.875 \nQ 20.84375 53.03125 27.546875 53.03125 \nQ 35.984375 53.03125 41.359375 48.75 \nQ 46.734375 44.484375 48.25 36.625 \nL 39.703125 35.296875 \nQ 38.484375 40.53125 35.375 43.15625 \nQ 32.28125 45.796875 27.875 45.796875 \nQ 21.234375 45.796875 17.078125 41.03125 \nQ 12.9375 36.28125 12.9375 25.984375 \nQ 12.9375 15.53125 16.9375 10.796875 \nQ 20.953125 6.0625 27.390625 6.0625 \nQ 32.5625 6.0625 36.03125 9.234375 \nQ 39.5 12.40625 40.4375 19 \nz\n\" id=\"ArialMT-99\"/>\n       </defs>\n       <use xlink:href=\"#ArialMT-95\"/>\n       <use x=\"55.615234\" xlink:href=\"#ArialMT-101\"/>\n       <use x=\"111.230469\" xlink:href=\"#ArialMT-120\"/>\n       <use x=\"161.230469\" xlink:href=\"#ArialMT-112\"/>\n       <use x=\"216.845703\" xlink:href=\"#ArialMT-101\"/>\n       <use x=\"272.460938\" xlink:href=\"#ArialMT-114\"/>\n       <use x=\"305.761719\" xlink:href=\"#ArialMT-105\"/>\n       <use x=\"327.978516\" xlink:href=\"#ArialMT-101\"/>\n       <use x=\"383.59375\" xlink:href=\"#ArialMT-110\"/>\n       <use x=\"439.208984\" xlink:href=\"#ArialMT-99\"/>\n       <use x=\"489.208984\" xlink:href=\"#ArialMT-101\"/>\n       <use x=\"544.824219\" xlink:href=\"#ArialMT-95\"/>\n       <use x=\"600.439453\" xlink:href=\"#ArialMT-49\"/>\n      </g>\n     </g>\n    </g>\n    <g id=\"ytick_2\">\n     <g id=\"line2d_23\">\n      <path clip-path=\"url(#pdd024e1880)\" d=\"M 119.320781 88.74 \nL 565.720781 88.74 \n\" style=\"fill:none;stroke:#ffffff;stroke-linecap:round;\"/>\n     </g>\n     <g id=\"text_12\">\n      <!-- _race_1 -->\n      <g style=\"fill:#999999;\" transform=\"translate(62.846094 93.411875)scale(0.13 -0.13)\">\n       <use xlink:href=\"#ArialMT-95\"/>\n       <use x=\"55.615234\" xlink:href=\"#ArialMT-114\"/>\n       <use x=\"88.916016\" xlink:href=\"#ArialMT-97\"/>\n       <use x=\"144.53125\" xlink:href=\"#ArialMT-99\"/>\n       <use x=\"194.53125\" xlink:href=\"#ArialMT-101\"/>\n       <use x=\"250.146484\" xlink:href=\"#ArialMT-95\"/>\n       <use x=\"305.761719\" xlink:href=\"#ArialMT-49\"/>\n      </g>\n     </g>\n    </g>\n    <g id=\"ytick_3\">\n     <g id=\"line2d_24\">\n      <path clip-path=\"url(#pdd024e1880)\" d=\"M 119.320781 143.649091 \nL 565.720781 143.649091 \n\" style=\"fill:none;stroke:#ffffff;stroke-linecap:round;\"/>\n     </g>\n     <g id=\"text_13\">\n      <!-- _french_level_1.0 -->\n      <g style=\"fill:#999999;\" transform=\"translate(7.2 148.380888)scale(0.13 -0.13)\">\n       <defs>\n        <path d=\"M 8.6875 0 \nL 8.6875 45.015625 \nL 0.921875 45.015625 \nL 0.921875 51.859375 \nL 8.6875 51.859375 \nL 8.6875 57.375 \nQ 8.6875 62.59375 9.625 65.140625 \nQ 10.890625 68.5625 14.078125 70.671875 \nQ 17.28125 72.796875 23.046875 72.796875 \nQ 26.765625 72.796875 31.25 71.921875 \nL 29.9375 64.265625 \nQ 27.203125 64.75 24.75 64.75 \nQ 20.75 64.75 19.09375 63.03125 \nQ 17.4375 61.328125 17.4375 56.640625 \nL 17.4375 51.859375 \nL 27.546875 51.859375 \nL 27.546875 45.015625 \nL 17.4375 45.015625 \nL 17.4375 0 \nz\n\" id=\"ArialMT-102\"/>\n        <path d=\"M 6.59375 0 \nL 6.59375 71.578125 \nL 15.375 71.578125 \nL 15.375 45.90625 \nQ 21.53125 53.03125 30.90625 53.03125 \nQ 36.671875 53.03125 40.921875 50.75 \nQ 45.171875 48.484375 47 44.484375 \nQ 48.828125 40.484375 48.828125 32.859375 \nL 48.828125 0 \nL 40.046875 0 \nL 40.046875 32.859375 \nQ 40.046875 39.453125 37.1875 42.453125 \nQ 34.328125 45.453125 29.109375 45.453125 \nQ 25.203125 45.453125 21.75 43.421875 \nQ 18.3125 41.40625 16.84375 37.9375 \nQ 15.375 34.46875 15.375 28.375 \nL 15.375 0 \nz\n\" id=\"ArialMT-104\"/>\n       </defs>\n       <use xlink:href=\"#ArialMT-95\"/>\n       <use x=\"55.615234\" xlink:href=\"#ArialMT-102\"/>\n       <use x=\"83.398438\" xlink:href=\"#ArialMT-114\"/>\n       <use x=\"116.699219\" xlink:href=\"#ArialMT-101\"/>\n       <use x=\"172.314453\" xlink:href=\"#ArialMT-110\"/>\n       <use x=\"227.929688\" xlink:href=\"#ArialMT-99\"/>\n       <use x=\"277.929688\" xlink:href=\"#ArialMT-104\"/>\n       <use x=\"333.544922\" xlink:href=\"#ArialMT-95\"/>\n       <use x=\"389.160156\" xlink:href=\"#ArialMT-108\"/>\n       <use x=\"411.376953\" xlink:href=\"#ArialMT-101\"/>\n       <use x=\"466.992188\" xlink:href=\"#ArialMT-118\"/>\n       <use x=\"516.992188\" xlink:href=\"#ArialMT-101\"/>\n       <use x=\"572.607422\" xlink:href=\"#ArialMT-108\"/>\n       <use x=\"594.824219\" xlink:href=\"#ArialMT-95\"/>\n       <use x=\"650.439453\" xlink:href=\"#ArialMT-49\"/>\n       <use x=\"706.054688\" xlink:href=\"#ArialMT-46\"/>\n       <use x=\"733.837891\" xlink:href=\"#ArialMT-48\"/>\n      </g>\n     </g>\n    </g>\n    <g id=\"ytick_4\">\n     <g id=\"line2d_25\">\n      <path clip-path=\"url(#pdd024e1880)\" d=\"M 119.320781 33.830909 \nL 565.720781 33.830909 \n\" style=\"fill:none;stroke:#ffffff;stroke-linecap:round;\"/>\n     </g>\n     <g id=\"text_14\">\n      <!-- _experience_1 -->\n      <g style=\"fill:#262626;\" transform=\"translate(24.540781 38.502784)scale(0.13 -0.13)\">\n       <use xlink:href=\"#ArialMT-95\"/>\n       <use x=\"55.615234\" xlink:href=\"#ArialMT-101\"/>\n       <use x=\"111.230469\" xlink:href=\"#ArialMT-120\"/>\n       <use x=\"161.230469\" xlink:href=\"#ArialMT-112\"/>\n       <use x=\"216.845703\" xlink:href=\"#ArialMT-101\"/>\n       <use x=\"272.460938\" xlink:href=\"#ArialMT-114\"/>\n       <use x=\"305.761719\" xlink:href=\"#ArialMT-105\"/>\n       <use x=\"327.978516\" xlink:href=\"#ArialMT-101\"/>\n       <use x=\"383.59375\" xlink:href=\"#ArialMT-110\"/>\n       <use x=\"439.208984\" xlink:href=\"#ArialMT-99\"/>\n       <use x=\"489.208984\" xlink:href=\"#ArialMT-101\"/>\n       <use x=\"544.824219\" xlink:href=\"#ArialMT-95\"/>\n       <use x=\"600.439453\" xlink:href=\"#ArialMT-49\"/>\n      </g>\n     </g>\n    </g>\n    <g id=\"ytick_5\">\n     <g id=\"line2d_26\">\n      <path clip-path=\"url(#pdd024e1880)\" d=\"M 119.320781 88.739999 \nL 565.720781 88.739999 \n\" style=\"fill:none;stroke:#ffffff;stroke-linecap:round;\"/>\n     </g>\n     <g id=\"text_15\">\n      <!-- _race_1 -->\n      <g style=\"fill:#262626;\" transform=\"translate(62.846094 93.411874)scale(0.13 -0.13)\">\n       <use xlink:href=\"#ArialMT-95\"/>\n       <use x=\"55.615234\" xlink:href=\"#ArialMT-114\"/>\n       <use x=\"88.916016\" xlink:href=\"#ArialMT-97\"/>\n       <use x=\"144.53125\" xlink:href=\"#ArialMT-99\"/>\n       <use x=\"194.53125\" xlink:href=\"#ArialMT-101\"/>\n       <use x=\"250.146484\" xlink:href=\"#ArialMT-95\"/>\n       <use x=\"305.761719\" xlink:href=\"#ArialMT-49\"/>\n      </g>\n     </g>\n    </g>\n    <g id=\"ytick_6\">\n     <g id=\"line2d_27\">\n      <path clip-path=\"url(#pdd024e1880)\" d=\"M 119.320781 143.64909 \nL 565.720781 143.64909 \n\" style=\"fill:none;stroke:#ffffff;stroke-linecap:round;\"/>\n     </g>\n     <g id=\"text_16\">\n      <!-- _french_level_1.0 -->\n      <g style=\"fill:#262626;\" transform=\"translate(7.2 148.380887)scale(0.13 -0.13)\">\n       <use xlink:href=\"#ArialMT-95\"/>\n       <use x=\"55.615234\" xlink:href=\"#ArialMT-102\"/>\n       <use x=\"83.398438\" xlink:href=\"#ArialMT-114\"/>\n       <use x=\"116.699219\" xlink:href=\"#ArialMT-101\"/>\n       <use x=\"172.314453\" xlink:href=\"#ArialMT-110\"/>\n       <use x=\"227.929688\" xlink:href=\"#ArialMT-99\"/>\n       <use x=\"277.929688\" xlink:href=\"#ArialMT-104\"/>\n       <use x=\"333.544922\" xlink:href=\"#ArialMT-95\"/>\n       <use x=\"389.160156\" xlink:href=\"#ArialMT-108\"/>\n       <use x=\"411.376953\" xlink:href=\"#ArialMT-101\"/>\n       <use x=\"466.992188\" xlink:href=\"#ArialMT-118\"/>\n       <use x=\"516.992188\" xlink:href=\"#ArialMT-101\"/>\n       <use x=\"572.607422\" xlink:href=\"#ArialMT-108\"/>\n       <use x=\"594.824219\" xlink:href=\"#ArialMT-95\"/>\n       <use x=\"650.439453\" xlink:href=\"#ArialMT-49\"/>\n       <use x=\"706.054688\" xlink:href=\"#ArialMT-46\"/>\n       <use x=\"733.837891\" xlink:href=\"#ArialMT-48\"/>\n      </g>\n     </g>\n    </g>\n   </g>\n   <g id=\"patch_3\">\n    <path clip-path=\"url(#pdd024e1880)\" d=\"M 119.320781 53.049091 \nL 524.21874 53.049091 \nL 524.21874 14.612727 \nL 119.320781 14.612727 \nz\n\" style=\"fill:#ff0051;stroke:#ffffff;stroke-linejoin:miter;stroke-opacity:0.8;\"/>\n   </g>\n   <g id=\"patch_4\">\n    <path clip-path=\"url(#pdd024e1880)\" d=\"M 119.320781 107.958182 \nL 285.623212 107.958182 \nL 285.623212 69.521818 \nL 119.320781 69.521818 \nz\n\" style=\"fill:#ff0051;stroke:#ffffff;stroke-linejoin:miter;stroke-opacity:0.8;\"/>\n   </g>\n   <g id=\"patch_5\">\n    <path clip-path=\"url(#pdd024e1880)\" d=\"M 119.320781 162.867273 \nL 190.605365 162.867273 \nL 190.605365 124.430909 \nL 119.320781 124.430909 \nz\n\" style=\"fill:#ff0051;stroke:#ffffff;stroke-linejoin:miter;stroke-opacity:0.8;\"/>\n   </g>\n   <g id=\"patch_6\">\n    <path d=\"M 119.320781 170.28 \nL 119.320781 7.2 \n\" style=\"fill:none;stroke:#ffffff;stroke-linecap:square;stroke-linejoin:miter;stroke-width:1.25;\"/>\n   </g>\n   <g id=\"patch_7\">\n    <path d=\"M 119.320781 170.28 \nL 565.720781 170.28 \n\" style=\"fill:none;stroke:#ffffff;stroke-linecap:square;stroke-linejoin:miter;stroke-width:1.25;\"/>\n   </g>\n   <g id=\"text_17\">\n    <!-- +0.4 -->\n    <g style=\"fill:#ff0051;\" transform=\"translate(528.980645 36.933097)scale(0.12 -0.12)\">\n     <defs>\n      <path d=\"M 25.046875 11.578125 \nL 25.046875 31.203125 \nL 5.5625 31.203125 \nL 5.5625 39.40625 \nL 25.046875 39.40625 \nL 25.046875 58.890625 \nL 33.34375 58.890625 \nL 33.34375 39.40625 \nL 52.828125 39.40625 \nL 52.828125 31.203125 \nL 33.34375 31.203125 \nL 33.34375 11.578125 \nz\n\" id=\"ArialMT-43\"/>\n     </defs>\n     <use xlink:href=\"#ArialMT-43\"/>\n     <use x=\"58.398438\" xlink:href=\"#ArialMT-48\"/>\n     <use x=\"114.013672\" xlink:href=\"#ArialMT-46\"/>\n     <use x=\"141.796875\" xlink:href=\"#ArialMT-52\"/>\n    </g>\n   </g>\n   <g id=\"text_18\">\n    <!-- +0.17 -->\n    <g style=\"fill:#ff0051;\" transform=\"translate(290.385117 91.842188)scale(0.12 -0.12)\">\n     <defs>\n      <path d=\"M 4.734375 62.203125 \nL 4.734375 70.65625 \nL 51.078125 70.65625 \nL 51.078125 63.8125 \nQ 44.234375 56.546875 37.515625 44.484375 \nQ 30.8125 32.421875 27.15625 19.671875 \nQ 24.515625 10.6875 23.78125 0 \nL 14.75 0 \nQ 14.890625 8.453125 18.0625 20.40625 \nQ 21.234375 32.375 27.171875 43.484375 \nQ 33.109375 54.59375 39.796875 62.203125 \nz\n\" id=\"ArialMT-55\"/>\n     </defs>\n     <use xlink:href=\"#ArialMT-43\"/>\n     <use x=\"58.398438\" xlink:href=\"#ArialMT-48\"/>\n     <use x=\"114.013672\" xlink:href=\"#ArialMT-46\"/>\n     <use x=\"141.796875\" xlink:href=\"#ArialMT-49\"/>\n     <use x=\"197.412109\" xlink:href=\"#ArialMT-55\"/>\n    </g>\n   </g>\n   <g id=\"text_19\">\n    <!-- +0.07 -->\n    <g style=\"fill:#ff0051;\" transform=\"translate(195.367269 146.751278)scale(0.12 -0.12)\">\n     <use xlink:href=\"#ArialMT-43\"/>\n     <use x=\"58.398438\" xlink:href=\"#ArialMT-48\"/>\n     <use x=\"114.013672\" xlink:href=\"#ArialMT-46\"/>\n     <use x=\"141.796875\" xlink:href=\"#ArialMT-48\"/>\n     <use x=\"197.412109\" xlink:href=\"#ArialMT-55\"/>\n    </g>\n   </g>\n  </g>\n </g>\n <defs>\n  <clipPath id=\"pdd024e1880\">\n   <rect height=\"163.08\" width=\"446.4\" x=\"119.320781\" y=\"7.2\"/>\n  </clipPath>\n </defs>\n</svg>\n",
      "image/png": "[encoded data removed]"
     },
     "metadata": {}
    }
   ],
   "source": [
    "shap.plots.bar(shap_values)"
   ]
  },
  {
   "cell_type": "code",
   "execution_count": null,
   "metadata": {},
   "outputs": [],
   "source": [
    "df_shap = pd.DataFrame(shap_values, columns=X.columns)"
   ]
  }
 ]
}