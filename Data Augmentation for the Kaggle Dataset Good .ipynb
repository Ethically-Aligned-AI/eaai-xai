{
 "cells": [
  {
   "cell_type": "code",
   "execution_count": 2,
   "metadata": {},
   "outputs": [],
   "source": [
    "import pandas as pd\n",
    "import numpy as np\n",
    "import matplotlib.pyplot as plt"
   ]
  },
  {
   "cell_type": "code",
   "execution_count": 71,
   "metadata": {},
   "outputs": [],
   "source": [
    "from numpy.random import RandomState"
   ]
  },
  {
   "cell_type": "code",
   "execution_count": 49,
   "metadata": {},
   "outputs": [],
   "source": [
    "np.random.seed(42)"
   ]
  },
  {
   "cell_type": "code",
   "execution_count": 73,
   "metadata": {},
   "outputs": [
    {
     "data": {
      "text/plain": [
       "array([ 5,  1,  7,  2, 10, 13, 11,  4,  8,  9,  0, 12,  6,  3])"
      ]
     },
     "execution_count": 73,
     "metadata": {},
     "output_type": "execute_result"
    }
   ],
   "source": [
    "RandomState(5).permutation(14)"
   ]
  },
  {
   "cell_type": "code",
   "execution_count": 3,
   "metadata": {},
   "outputs": [],
   "source": [
    "CV_Match = pd.read_excel(\"./data/kaggle/data.xlsx\", sheet_name= \"Match\", index_col = 'Candidate_match') \n",
    "CV_Sourcing = pd.read_excel(\"./data/kaggle/data.xlsx\", sheet_name = \"Candidate\", index_col = 'CV_ID')"
   ]
  },
  {
   "cell_type": "code",
   "execution_count": 32,
   "metadata": {},
   "outputs": [
    {
     "data": {
      "text/html": [
       "<div>\n",
       "<style scoped>\n",
       "    .dataframe tbody tr th:only-of-type {\n",
       "        vertical-align: middle;\n",
       "    }\n",
       "\n",
       "    .dataframe tbody tr th {\n",
       "        vertical-align: top;\n",
       "    }\n",
       "\n",
       "    .dataframe thead th {\n",
       "        text-align: right;\n",
       "    }\n",
       "</style>\n",
       "<table border=\"1\" class=\"dataframe\">\n",
       "  <thead>\n",
       "    <tr style=\"text-align: right;\">\n",
       "      <th></th>\n",
       "      <th>Experience</th>\n",
       "      <th>Language Level - French</th>\n",
       "    </tr>\n",
       "    <tr>\n",
       "      <th>CV_ID</th>\n",
       "      <th></th>\n",
       "      <th></th>\n",
       "    </tr>\n",
       "  </thead>\n",
       "  <tbody>\n",
       "    <tr>\n",
       "      <th>1000</th>\n",
       "      <td>NaN</td>\n",
       "      <td>NaN</td>\n",
       "    </tr>\n",
       "    <tr>\n",
       "      <th>1001</th>\n",
       "      <td>NaN</td>\n",
       "      <td>NaN</td>\n",
       "    </tr>\n",
       "    <tr>\n",
       "      <th>1002</th>\n",
       "      <td>NaN</td>\n",
       "      <td>NaN</td>\n",
       "    </tr>\n",
       "    <tr>\n",
       "      <th>1003</th>\n",
       "      <td>NaN</td>\n",
       "      <td>NaN</td>\n",
       "    </tr>\n",
       "    <tr>\n",
       "      <th>1004</th>\n",
       "      <td>NaN</td>\n",
       "      <td>NaN</td>\n",
       "    </tr>\n",
       "    <tr>\n",
       "      <th>...</th>\n",
       "      <td>...</td>\n",
       "      <td>...</td>\n",
       "    </tr>\n",
       "    <tr>\n",
       "      <th>995</th>\n",
       "      <td>NaN</td>\n",
       "      <td>NaN</td>\n",
       "    </tr>\n",
       "    <tr>\n",
       "      <th>996</th>\n",
       "      <td>NaN</td>\n",
       "      <td>NaN</td>\n",
       "    </tr>\n",
       "    <tr>\n",
       "      <th>997</th>\n",
       "      <td>NaN</td>\n",
       "      <td>NaN</td>\n",
       "    </tr>\n",
       "    <tr>\n",
       "      <th>998</th>\n",
       "      <td>NaN</td>\n",
       "      <td>NaN</td>\n",
       "    </tr>\n",
       "    <tr>\n",
       "      <th>999</th>\n",
       "      <td>NaN</td>\n",
       "      <td>NaN</td>\n",
       "    </tr>\n",
       "  </tbody>\n",
       "</table>\n",
       "<p>10099 rows × 2 columns</p>\n",
       "</div>"
      ],
      "text/plain": [
       "      Experience Language Level - French\n",
       "CV_ID                                   \n",
       "1000         NaN                     NaN\n",
       "1001         NaN                     NaN\n",
       "1002         NaN                     NaN\n",
       "1003         NaN                     NaN\n",
       "1004         NaN                     NaN\n",
       "...          ...                     ...\n",
       "995          NaN                     NaN\n",
       "996          NaN                     NaN\n",
       "997          NaN                     NaN\n",
       "998          NaN                     NaN\n",
       "999          NaN                     NaN\n",
       "\n",
       "[10099 rows x 2 columns]"
      ]
     },
     "execution_count": 32,
     "metadata": {},
     "output_type": "execute_result"
    }
   ],
   "source": [
    "CV_Sourcing"
   ]
  },
  {
   "cell_type": "markdown",
   "metadata": {},
   "source": [
    "Adding in the data augmentation steps as outlined here: https://docs.google.com/document/d/13W0YIM3UcS--UGs5K5s5_DHYr0cfRZC_QYr146-3AfI/edit#heading=h.4rkzkuexnsde"
   ]
  },
  {
   "cell_type": "code",
   "execution_count": 88,
   "metadata": {},
   "outputs": [
    {
     "data": {
      "text/plain": [
       "786"
      ]
     },
     "execution_count": 88,
     "metadata": {},
     "output_type": "execute_result"
    }
   ],
   "source": [
    "CV_Sourcing.Experience.notnull().sum()"
   ]
  },
  {
   "cell_type": "code",
   "execution_count": 7,
   "metadata": {},
   "outputs": [
    {
     "data": {
      "text/plain": [
       "array([nan, 'B1', 'A1', 'C2', 'Native', 'B2', 'A2', 'C1'], dtype=object)"
      ]
     },
     "execution_count": 7,
     "metadata": {},
     "output_type": "execute_result"
    }
   ],
   "source": [
    "CV_Sourcing['Language Level - French'].unique()"
   ]
  },
  {
   "cell_type": "code",
   "execution_count": 37,
   "metadata": {},
   "outputs": [],
   "source": [
    "dfMerged = CV_Sourcing.merge(CV_Match, left_on=CV_Sourcing.index, right_on=CV_Match.index).rename(columns={'key_0':'CV_ID'}).sort_index()"
   ]
  },
  {
   "cell_type": "code",
   "execution_count": 44,
   "metadata": {},
   "outputs": [],
   "source": [
    "statusMap = {\n",
    "'A01 - Offer Preparation Started':1,\n",
    " 'A03 - Offer accepted':1,\n",
    " 'A03 - Offer declined':1,\n",
    " 'A03 - Process Cancelled':1,\n",
    " 'A04 - Hiring Request Started':1,\n",
    " 'A04b – Hiring Started / Contract signed':1,\n",
    " 'A05 - Onboarding':1,\n",
    " 'Approved':0,\n",
    " 'CV approved':0,\n",
    " 'CV dropped out':0,\n",
    " 'CV refused':0,\n",
    " 'CV sent to France':0,\n",
    " 'Candidate dropped out':0,\n",
    " 'Candidate refused':0,\n",
    " 'Candidate validated':1,\n",
    " 'D01 – Resignation':1,\n",
    " 'Dropped out':0,\n",
    " 'Matched':0,\n",
    " 'Rejected':0,\n",
    " 'Sent to Client':0,\n",
    " 'T01- Terminated':1\n",
    "}"
   ]
  },
  {
   "cell_type": "code",
   "execution_count": 45,
   "metadata": {},
   "outputs": [],
   "source": [
    "dfMerged['MatchStatus'] = dfMerged['Status'].map(statusMap).astype(int)"
   ]
  },
  {
   "cell_type": "code",
   "execution_count": 47,
   "metadata": {},
   "outputs": [
    {
     "data": {
      "text/plain": [
       "0    1908\n",
       "1     347\n",
       "Name: MatchStatus, dtype: int64"
      ]
     },
     "execution_count": 47,
     "metadata": {},
     "output_type": "execute_result"
    }
   ],
   "source": [
    "dfMerged.MatchStatus.value_counts()"
   ]
  },
  {
   "cell_type": "code",
   "execution_count": 48,
   "metadata": {},
   "outputs": [],
   "source": [
    "from sklearn.model_selection import train_test_split"
   ]
  },
  {
   "cell_type": "code",
   "execution_count": 269,
   "metadata": {},
   "outputs": [
    {
     "data": {
      "text/html": [
       "<div>\n",
       "<style scoped>\n",
       "    .dataframe tbody tr th:only-of-type {\n",
       "        vertical-align: middle;\n",
       "    }\n",
       "\n",
       "    .dataframe tbody tr th {\n",
       "        vertical-align: top;\n",
       "    }\n",
       "\n",
       "    .dataframe thead th {\n",
       "        text-align: right;\n",
       "    }\n",
       "</style>\n",
       "<table border=\"1\" class=\"dataframe\">\n",
       "  <thead>\n",
       "    <tr style=\"text-align: right;\">\n",
       "      <th></th>\n",
       "      <th>CV_ID</th>\n",
       "      <th>Experience</th>\n",
       "      <th>Language Level - French</th>\n",
       "      <th>Match_ID</th>\n",
       "      <th>Status</th>\n",
       "      <th>4. CV sent to Client</th>\n",
       "      <th>4. Client initial validation date</th>\n",
       "      <th>7. Client final approval date</th>\n",
       "      <th>MatchStatus</th>\n",
       "    </tr>\n",
       "  </thead>\n",
       "  <tbody>\n",
       "    <tr>\n",
       "      <th>0</th>\n",
       "      <td>1025</td>\n",
       "      <td>[0-1]</td>\n",
       "      <td>B1</td>\n",
       "      <td>10551</td>\n",
       "      <td>A03 - Offer declined</td>\n",
       "      <td>2017-03-15</td>\n",
       "      <td>2017-03-17</td>\n",
       "      <td>2017-04-05</td>\n",
       "      <td>1</td>\n",
       "    </tr>\n",
       "    <tr>\n",
       "      <th>1</th>\n",
       "      <td>1045</td>\n",
       "      <td>[0-1]</td>\n",
       "      <td>B1</td>\n",
       "      <td>10234</td>\n",
       "      <td>Rejected</td>\n",
       "      <td>NaT</td>\n",
       "      <td>NaT</td>\n",
       "      <td>NaT</td>\n",
       "      <td>0</td>\n",
       "    </tr>\n",
       "    <tr>\n",
       "      <th>2</th>\n",
       "      <td>1045</td>\n",
       "      <td>[0-1]</td>\n",
       "      <td>B1</td>\n",
       "      <td>10745</td>\n",
       "      <td>CV refused</td>\n",
       "      <td>2017-05-05</td>\n",
       "      <td>2017-05-05</td>\n",
       "      <td>NaT</td>\n",
       "      <td>0</td>\n",
       "    </tr>\n",
       "    <tr>\n",
       "      <th>3</th>\n",
       "      <td>1045</td>\n",
       "      <td>[0-1]</td>\n",
       "      <td>B1</td>\n",
       "      <td>10840</td>\n",
       "      <td>CV refused</td>\n",
       "      <td>2017-05-23</td>\n",
       "      <td>2017-05-23</td>\n",
       "      <td>NaT</td>\n",
       "      <td>0</td>\n",
       "    </tr>\n",
       "    <tr>\n",
       "      <th>4</th>\n",
       "      <td>1045</td>\n",
       "      <td>[0-1]</td>\n",
       "      <td>B1</td>\n",
       "      <td>10845</td>\n",
       "      <td>A03 - Offer declined</td>\n",
       "      <td>2017-05-23</td>\n",
       "      <td>2017-05-23</td>\n",
       "      <td>2017-06-30</td>\n",
       "      <td>1</td>\n",
       "    </tr>\n",
       "    <tr>\n",
       "      <th>...</th>\n",
       "      <td>...</td>\n",
       "      <td>...</td>\n",
       "      <td>...</td>\n",
       "      <td>...</td>\n",
       "      <td>...</td>\n",
       "      <td>...</td>\n",
       "      <td>...</td>\n",
       "      <td>...</td>\n",
       "      <td>...</td>\n",
       "    </tr>\n",
       "    <tr>\n",
       "      <th>2250</th>\n",
       "      <td>9821</td>\n",
       "      <td>NaN</td>\n",
       "      <td>NaN</td>\n",
       "      <td>13343</td>\n",
       "      <td>Sent to Client</td>\n",
       "      <td>2018-05-03</td>\n",
       "      <td>NaT</td>\n",
       "      <td>NaT</td>\n",
       "      <td>0</td>\n",
       "    </tr>\n",
       "    <tr>\n",
       "      <th>2251</th>\n",
       "      <td>9821</td>\n",
       "      <td>NaN</td>\n",
       "      <td>NaN</td>\n",
       "      <td>13437</td>\n",
       "      <td>CV approved</td>\n",
       "      <td>2018-05-04</td>\n",
       "      <td>2018-05-04</td>\n",
       "      <td>NaT</td>\n",
       "      <td>0</td>\n",
       "    </tr>\n",
       "    <tr>\n",
       "      <th>2252</th>\n",
       "      <td>9827</td>\n",
       "      <td>NaN</td>\n",
       "      <td>NaN</td>\n",
       "      <td>12367</td>\n",
       "      <td>CV refused</td>\n",
       "      <td>2018-02-27</td>\n",
       "      <td>2018-03-20</td>\n",
       "      <td>NaT</td>\n",
       "      <td>0</td>\n",
       "    </tr>\n",
       "    <tr>\n",
       "      <th>2253</th>\n",
       "      <td>9836</td>\n",
       "      <td>[0-1]</td>\n",
       "      <td>NaN</td>\n",
       "      <td>12443</td>\n",
       "      <td>A05 - Onboarding</td>\n",
       "      <td>2017-12-01</td>\n",
       "      <td>2017-12-01</td>\n",
       "      <td>2017-12-01</td>\n",
       "      <td>1</td>\n",
       "    </tr>\n",
       "    <tr>\n",
       "      <th>2254</th>\n",
       "      <td>998</td>\n",
       "      <td>NaN</td>\n",
       "      <td>NaN</td>\n",
       "      <td>10089</td>\n",
       "      <td>CV dropped out</td>\n",
       "      <td>NaT</td>\n",
       "      <td>NaT</td>\n",
       "      <td>NaT</td>\n",
       "      <td>0</td>\n",
       "    </tr>\n",
       "  </tbody>\n",
       "</table>\n",
       "<p>2255 rows × 9 columns</p>\n",
       "</div>"
      ],
      "text/plain": [
       "      CV_ID Experience Language Level - French  Match_ID  \\\n",
       "0      1025      [0-1]                      B1     10551   \n",
       "1      1045      [0-1]                      B1     10234   \n",
       "2      1045      [0-1]                      B1     10745   \n",
       "3      1045      [0-1]                      B1     10840   \n",
       "4      1045      [0-1]                      B1     10845   \n",
       "...     ...        ...                     ...       ...   \n",
       "2250   9821        NaN                     NaN     13343   \n",
       "2251   9821        NaN                     NaN     13437   \n",
       "2252   9827        NaN                     NaN     12367   \n",
       "2253   9836      [0-1]                     NaN     12443   \n",
       "2254    998        NaN                     NaN     10089   \n",
       "\n",
       "                    Status 4. CV sent to Client  \\\n",
       "0     A03 - Offer declined           2017-03-15   \n",
       "1                 Rejected                  NaT   \n",
       "2               CV refused           2017-05-05   \n",
       "3               CV refused           2017-05-23   \n",
       "4     A03 - Offer declined           2017-05-23   \n",
       "...                    ...                  ...   \n",
       "2250        Sent to Client           2018-05-03   \n",
       "2251           CV approved           2018-05-04   \n",
       "2252            CV refused           2018-02-27   \n",
       "2253      A05 - Onboarding           2017-12-01   \n",
       "2254        CV dropped out                  NaT   \n",
       "\n",
       "     4. Client initial validation date 7. Client final approval date  \\\n",
       "0                           2017-03-17                    2017-04-05   \n",
       "1                                  NaT                           NaT   \n",
       "2                           2017-05-05                           NaT   \n",
       "3                           2017-05-23                           NaT   \n",
       "4                           2017-05-23                    2017-06-30   \n",
       "...                                ...                           ...   \n",
       "2250                               NaT                           NaT   \n",
       "2251                        2018-05-04                           NaT   \n",
       "2252                        2018-03-20                           NaT   \n",
       "2253                        2017-12-01                    2017-12-01   \n",
       "2254                               NaT                           NaT   \n",
       "\n",
       "      MatchStatus  \n",
       "0               1  \n",
       "1               0  \n",
       "2               0  \n",
       "3               0  \n",
       "4               1  \n",
       "...           ...  \n",
       "2250            0  \n",
       "2251            0  \n",
       "2252            0  \n",
       "2253            1  \n",
       "2254            0  \n",
       "\n",
       "[2255 rows x 9 columns]"
      ]
     },
     "execution_count": 269,
     "metadata": {},
     "output_type": "execute_result"
    }
   ],
   "source": [
    "dfMerged"
   ]
  },
  {
   "cell_type": "code",
   "execution_count": 230,
   "metadata": {},
   "outputs": [
    {
     "data": {
      "text/plain": [
       "0       1\n",
       "1       0\n",
       "2       0\n",
       "3       0\n",
       "4       1\n",
       "       ..\n",
       "2250    0\n",
       "2251    0\n",
       "2252    0\n",
       "2253    1\n",
       "2254    0\n",
       "Name: MatchStatus, Length: 2255, dtype: int32"
      ]
     },
     "execution_count": 230,
     "metadata": {},
     "output_type": "execute_result"
    }
   ],
   "source": [
    "dfMerged.iloc[:,-1]"
   ]
  },
  {
   "cell_type": "code",
   "execution_count": 76,
   "metadata": {},
   "outputs": [],
   "source": [
    "Xtrain, Xtest, ytrain, ytest = train_test_split(dfMerged.iloc[:,:-1], dfMerged.iloc[:,-1], random_state=42, \n",
    "                                                test_size=.5, stratify=dfMerged.iloc[:,-1])"
   ]
  },
  {
   "cell_type": "code",
   "execution_count": 79,
   "metadata": {},
   "outputs": [
    {
     "data": {
      "text/plain": [
       "0    954\n",
       "1    173\n",
       "Name: MatchStatus, dtype: int64"
      ]
     },
     "execution_count": 79,
     "metadata": {},
     "output_type": "execute_result"
    }
   ],
   "source": [
    "Xtrain.join(ytrain)['MatchStatus'].value_counts()"
   ]
  },
  {
   "cell_type": "code",
   "execution_count": 80,
   "metadata": {},
   "outputs": [
    {
     "data": {
      "text/plain": [
       "0    954\n",
       "1    174\n",
       "Name: MatchStatus, dtype: int64"
      ]
     },
     "execution_count": 80,
     "metadata": {},
     "output_type": "execute_result"
    }
   ],
   "source": [
    "Xtest.join(ytest)['MatchStatus'].value_counts()"
   ]
  },
  {
   "cell_type": "code",
   "execution_count": 82,
   "metadata": {},
   "outputs": [],
   "source": [
    "Xtest['Gender'] = 'M'\n",
    "Xtrain['Gender'] = 'F'"
   ]
  },
  {
   "cell_type": "code",
   "execution_count": 96,
   "metadata": {},
   "outputs": [],
   "source": [
    "baseGenderDF = pd.concat([Xtest.join(ytest), Xtrain.join(ytrain)]).sort_index()"
   ]
  },
  {
   "cell_type": "code",
   "execution_count": 224,
   "metadata": {},
   "outputs": [],
   "source": [
    "# Deviations from demographic parity \n",
    "def deviation_func_gender(x, df, colName='Gender'):\n",
    "    yesDF = df[(df.MatchStatus == 1)]\n",
    "    noDF = df[~(df.MatchStatus == 1)]\n",
    "    totalMalePercent = .5 + (x/100)\n",
    "    totalMales = int(len(yesDF) * (totalMalePercent))\n",
    "    \n",
    "    np.random.seed(42)\n",
    "    indM = np.random.choice(yesDF.index, totalMales, replace=False)\n",
    "    indF = yesDF[~yesDF.index.isin(indM)].index\n",
    "    \n",
    "    yesDF.loc[indM, colName] = 'M'\n",
    "    yesDF.loc[indF, colName] = 'F'\n",
    "    \n",
    "    dfNew = pd.concat([yesDF, noDF])\n",
    "    return dfNew"
   ]
  },
  {
   "cell_type": "code",
   "execution_count": 292,
   "metadata": {},
   "outputs": [],
   "source": [
    "# Deviations from demographic parity \n",
    "def deviation_func_race(x, df, colName='Black'):\n",
    "    yesDF = df[(df.MatchStatus == 1)]\n",
    "    noDF = df[(df.MatchStatus == 0)]\n",
    "    totalBlackPercent = .5 + (x/100)\n",
    "    totalBlacks = int(len(yesDF) * (totalBlackPercent))\n",
    "    \n",
    "    np.random.seed(42)\n",
    "    indBlacks = np.random.choice(yesDF.index, totalBlacks, replace=False)\n",
    "    indWhites = yesDF[~yesDF.index.isin(indBlacks)].index\n",
    "    \n",
    "    yesDF.loc[indBlacks, colName] = 0\n",
    "    yesDF.loc[indWhites, colName] = 1\n",
    "    \n",
    "    dfNew = pd.concat([yesDF, noDF])\n",
    "    return dfNew"
   ]
  },
  {
   "cell_type": "code",
   "execution_count": 238,
   "metadata": {},
   "outputs": [
    {
     "name": "stderr",
     "output_type": "stream",
     "text": [
      "C:\\ProgramData\\Anaconda3\\lib\\site-packages\\pandas\\core\\indexing.py:965: SettingWithCopyWarning: \n",
      "A value is trying to be set on a copy of a slice from a DataFrame.\n",
      "Try using .loc[row_indexer,col_indexer] = value instead\n",
      "\n",
      "See the caveats in the documentation: https://pandas.pydata.org/pandas-docs/stable/user_guide/indexing.html#returning-a-view-versus-a-copy\n",
      "  self.obj[item] = s\n"
     ]
    }
   ],
   "source": [
    "deviation0 = deviation_func_gender(0, baseGenderDF)\n",
    "deviation2 = deviation_func_gender(2, baseGenderDF)\n",
    "deviation4 = deviation_func_gender(4, baseGenderDF)\n",
    "deviation6 = deviation_func_gender(6, baseGenderDF)\n",
    "deviation8 = deviation_func_gender(8, baseGenderDF)\n",
    "deviation10 = deviation_func_gender(10, baseGenderDF)"
   ]
  },
  {
   "cell_type": "code",
   "execution_count": 241,
   "metadata": {},
   "outputs": [],
   "source": [
    "deviation0.to_csv('./data/kaggle/base-gender-dataset.csv')\n",
    "deviation2.to_csv('./data/kaggle/base-gender-2-percent-dataset.csv')\n",
    "deviation4.to_csv('./data/kaggle/base-gender-4-percent-dataset.csv')\n",
    "deviation6.to_csv('./data/kaggle/base-gender-6-percent-dataset.csv')\n",
    "deviation8.to_csv('./data/kaggle/base-gender-8-percent-dataset.csv')\n",
    "deviation10.to_csv('./data/kaggle/base-gender-10-percent-dataset.csv')"
   ]
  },
  {
   "cell_type": "code",
   "execution_count": 266,
   "metadata": {},
   "outputs": [],
   "source": [
    "baseGenderDF = baseGenderDF.drop('Gender', axis=1)"
   ]
  },
  {
   "cell_type": "code",
   "execution_count": 273,
   "metadata": {},
   "outputs": [],
   "source": [
    "# Xtrain.drop('Gender', axis=1, inplace=True)\n",
    "# Xtrain['Black'] = 1\n",
    "Xtest.drop('Gender', axis=1, inplace=True)\n",
    "Xtest['Black'] = 0"
   ]
  },
  {
   "cell_type": "code",
   "execution_count": 274,
   "metadata": {},
   "outputs": [],
   "source": [
    "baseRaceDF = pd.concat([Xtest.join(ytest), Xtrain.join(ytrain)]).sort_index()"
   ]
  },
  {
   "cell_type": "code",
   "execution_count": 276,
   "metadata": {},
   "outputs": [
    {
     "data": {
      "text/html": [
       "<div>\n",
       "<style scoped>\n",
       "    .dataframe tbody tr th:only-of-type {\n",
       "        vertical-align: middle;\n",
       "    }\n",
       "\n",
       "    .dataframe tbody tr th {\n",
       "        vertical-align: top;\n",
       "    }\n",
       "\n",
       "    .dataframe thead th {\n",
       "        text-align: right;\n",
       "    }\n",
       "</style>\n",
       "<table border=\"1\" class=\"dataframe\">\n",
       "  <thead>\n",
       "    <tr style=\"text-align: right;\">\n",
       "      <th></th>\n",
       "      <th></th>\n",
       "      <th>CV_ID</th>\n",
       "      <th>Experience</th>\n",
       "      <th>Language Level - French</th>\n",
       "      <th>Match_ID</th>\n",
       "      <th>Status</th>\n",
       "      <th>4. CV sent to Client</th>\n",
       "      <th>4. Client initial validation date</th>\n",
       "      <th>7. Client final approval date</th>\n",
       "    </tr>\n",
       "    <tr>\n",
       "      <th>MatchStatus</th>\n",
       "      <th>Black</th>\n",
       "      <th></th>\n",
       "      <th></th>\n",
       "      <th></th>\n",
       "      <th></th>\n",
       "      <th></th>\n",
       "      <th></th>\n",
       "      <th></th>\n",
       "      <th></th>\n",
       "    </tr>\n",
       "  </thead>\n",
       "  <tbody>\n",
       "    <tr>\n",
       "      <th rowspan=\"2\" valign=\"top\">0</th>\n",
       "      <th>0</th>\n",
       "      <td>954</td>\n",
       "      <td>205</td>\n",
       "      <td>158</td>\n",
       "      <td>954</td>\n",
       "      <td>954</td>\n",
       "      <td>650</td>\n",
       "      <td>670</td>\n",
       "      <td>279</td>\n",
       "    </tr>\n",
       "    <tr>\n",
       "      <th>1</th>\n",
       "      <td>954</td>\n",
       "      <td>205</td>\n",
       "      <td>172</td>\n",
       "      <td>954</td>\n",
       "      <td>954</td>\n",
       "      <td>629</td>\n",
       "      <td>659</td>\n",
       "      <td>265</td>\n",
       "    </tr>\n",
       "    <tr>\n",
       "      <th rowspan=\"2\" valign=\"top\">1</th>\n",
       "      <th>0</th>\n",
       "      <td>174</td>\n",
       "      <td>171</td>\n",
       "      <td>133</td>\n",
       "      <td>174</td>\n",
       "      <td>174</td>\n",
       "      <td>174</td>\n",
       "      <td>174</td>\n",
       "      <td>174</td>\n",
       "    </tr>\n",
       "    <tr>\n",
       "      <th>1</th>\n",
       "      <td>173</td>\n",
       "      <td>169</td>\n",
       "      <td>137</td>\n",
       "      <td>173</td>\n",
       "      <td>173</td>\n",
       "      <td>173</td>\n",
       "      <td>173</td>\n",
       "      <td>173</td>\n",
       "    </tr>\n",
       "  </tbody>\n",
       "</table>\n",
       "</div>"
      ],
      "text/plain": [
       "                   CV_ID  Experience  Language Level - French  Match_ID  \\\n",
       "MatchStatus Black                                                         \n",
       "0           0        954         205                      158       954   \n",
       "            1        954         205                      172       954   \n",
       "1           0        174         171                      133       174   \n",
       "            1        173         169                      137       173   \n",
       "\n",
       "                   Status  4. CV sent to Client  \\\n",
       "MatchStatus Black                                 \n",
       "0           0         954                   650   \n",
       "            1         954                   629   \n",
       "1           0         174                   174   \n",
       "            1         173                   173   \n",
       "\n",
       "                   4. Client initial validation date  \\\n",
       "MatchStatus Black                                      \n",
       "0           0                                    670   \n",
       "            1                                    659   \n",
       "1           0                                    174   \n",
       "            1                                    173   \n",
       "\n",
       "                   7. Client final approval date  \n",
       "MatchStatus Black                                 \n",
       "0           0                                279  \n",
       "            1                                265  \n",
       "1           0                                174  \n",
       "            1                                173  "
      ]
     },
     "execution_count": 276,
     "metadata": {},
     "output_type": "execute_result"
    }
   ],
   "source": [
    "baseRaceDF.groupby(['MatchStatus','Black']).count()"
   ]
  },
  {
   "cell_type": "code",
   "execution_count": 293,
   "metadata": {},
   "outputs": [
    {
     "name": "stderr",
     "output_type": "stream",
     "text": [
      "C:\\ProgramData\\Anaconda3\\lib\\site-packages\\pandas\\core\\indexing.py:965: SettingWithCopyWarning: \n",
      "A value is trying to be set on a copy of a slice from a DataFrame.\n",
      "Try using .loc[row_indexer,col_indexer] = value instead\n",
      "\n",
      "See the caveats in the documentation: https://pandas.pydata.org/pandas-docs/stable/user_guide/indexing.html#returning-a-view-versus-a-copy\n",
      "  self.obj[item] = s\n"
     ]
    }
   ],
   "source": [
    "racedeviation0 = deviation_func_race(0, baseRaceDF, colName='Black')\n",
    "racedeviation2 = deviation_func_race(2, baseRaceDF)\n",
    "racedeviation4 = deviation_func_race(4, baseRaceDF)\n",
    "racedeviation6 = deviation_func_race(6, baseRaceDF)\n",
    "racedeviation8 = deviation_func_race(8, baseRaceDF)\n",
    "racedeviation10 = deviation_func_race(10, baseRaceDF)"
   ]
  },
  {
   "cell_type": "code",
   "execution_count": 296,
   "metadata": {},
   "outputs": [],
   "source": [
    "racedeviation0.to_csv('./data/kaggle/base-race-dataset.csv')\n",
    "racedeviation2.to_csv('./data/kaggle/base-race-2-percent-dataset.csv')\n",
    "racedeviation4.to_csv('./data/kaggle/base-race-4-percent-dataset.csv')\n",
    "racedeviation6.to_csv('./data/kaggle/base-race-6-percent-dataset.csv')\n",
    "racedeviation8.to_csv('./data/kaggle/base-race-8-percent-dataset.csv')\n",
    "racedeviation10.to_csv('./data/kaggle/base-race-10-percent-dataset.csv')"
   ]
  },
  {
   "cell_type": "code",
   "execution_count": 294,
   "metadata": {},
   "outputs": [
    {
     "data": {
      "text/html": [
       "<div>\n",
       "<style scoped>\n",
       "    .dataframe tbody tr th:only-of-type {\n",
       "        vertical-align: middle;\n",
       "    }\n",
       "\n",
       "    .dataframe tbody tr th {\n",
       "        vertical-align: top;\n",
       "    }\n",
       "\n",
       "    .dataframe thead th {\n",
       "        text-align: right;\n",
       "    }\n",
       "</style>\n",
       "<table border=\"1\" class=\"dataframe\">\n",
       "  <thead>\n",
       "    <tr style=\"text-align: right;\">\n",
       "      <th></th>\n",
       "      <th></th>\n",
       "      <th>CV_ID</th>\n",
       "      <th>Experience</th>\n",
       "      <th>Language Level - French</th>\n",
       "      <th>Match_ID</th>\n",
       "      <th>Status</th>\n",
       "      <th>4. CV sent to Client</th>\n",
       "      <th>4. Client initial validation date</th>\n",
       "      <th>7. Client final approval date</th>\n",
       "    </tr>\n",
       "    <tr>\n",
       "      <th>MatchStatus</th>\n",
       "      <th>Black</th>\n",
       "      <th></th>\n",
       "      <th></th>\n",
       "      <th></th>\n",
       "      <th></th>\n",
       "      <th></th>\n",
       "      <th></th>\n",
       "      <th></th>\n",
       "      <th></th>\n",
       "    </tr>\n",
       "  </thead>\n",
       "  <tbody>\n",
       "    <tr>\n",
       "      <th rowspan=\"2\" valign=\"top\">0</th>\n",
       "      <th>0</th>\n",
       "      <td>954</td>\n",
       "      <td>205</td>\n",
       "      <td>158</td>\n",
       "      <td>954</td>\n",
       "      <td>954</td>\n",
       "      <td>650</td>\n",
       "      <td>670</td>\n",
       "      <td>279</td>\n",
       "    </tr>\n",
       "    <tr>\n",
       "      <th>1</th>\n",
       "      <td>954</td>\n",
       "      <td>205</td>\n",
       "      <td>172</td>\n",
       "      <td>954</td>\n",
       "      <td>954</td>\n",
       "      <td>629</td>\n",
       "      <td>659</td>\n",
       "      <td>265</td>\n",
       "    </tr>\n",
       "    <tr>\n",
       "      <th rowspan=\"2\" valign=\"top\">1</th>\n",
       "      <th>0</th>\n",
       "      <td>173</td>\n",
       "      <td>168</td>\n",
       "      <td>135</td>\n",
       "      <td>173</td>\n",
       "      <td>173</td>\n",
       "      <td>173</td>\n",
       "      <td>173</td>\n",
       "      <td>173</td>\n",
       "    </tr>\n",
       "    <tr>\n",
       "      <th>1</th>\n",
       "      <td>174</td>\n",
       "      <td>172</td>\n",
       "      <td>135</td>\n",
       "      <td>174</td>\n",
       "      <td>174</td>\n",
       "      <td>174</td>\n",
       "      <td>174</td>\n",
       "      <td>174</td>\n",
       "    </tr>\n",
       "  </tbody>\n",
       "</table>\n",
       "</div>"
      ],
      "text/plain": [
       "                   CV_ID  Experience  Language Level - French  Match_ID  \\\n",
       "MatchStatus Black                                                         \n",
       "0           0        954         205                      158       954   \n",
       "            1        954         205                      172       954   \n",
       "1           0        173         168                      135       173   \n",
       "            1        174         172                      135       174   \n",
       "\n",
       "                   Status  4. CV sent to Client  \\\n",
       "MatchStatus Black                                 \n",
       "0           0         954                   650   \n",
       "            1         954                   629   \n",
       "1           0         173                   173   \n",
       "            1         174                   174   \n",
       "\n",
       "                   4. Client initial validation date  \\\n",
       "MatchStatus Black                                      \n",
       "0           0                                    670   \n",
       "            1                                    659   \n",
       "1           0                                    173   \n",
       "            1                                    174   \n",
       "\n",
       "                   7. Client final approval date  \n",
       "MatchStatus Black                                 \n",
       "0           0                                279  \n",
       "            1                                265  \n",
       "1           0                                173  \n",
       "            1                                174  "
      ]
     },
     "execution_count": 294,
     "metadata": {},
     "output_type": "execute_result"
    }
   ],
   "source": [
    "racedeviation0.groupby(['MatchStatus','Black']).count()"
   ]
  },
  {
   "cell_type": "code",
   "execution_count": 295,
   "metadata": {},
   "outputs": [
    {
     "data": {
      "text/html": [
       "<div>\n",
       "<style scoped>\n",
       "    .dataframe tbody tr th:only-of-type {\n",
       "        vertical-align: middle;\n",
       "    }\n",
       "\n",
       "    .dataframe tbody tr th {\n",
       "        vertical-align: top;\n",
       "    }\n",
       "\n",
       "    .dataframe thead th {\n",
       "        text-align: right;\n",
       "    }\n",
       "</style>\n",
       "<table border=\"1\" class=\"dataframe\">\n",
       "  <thead>\n",
       "    <tr style=\"text-align: right;\">\n",
       "      <th></th>\n",
       "      <th></th>\n",
       "      <th>CV_ID</th>\n",
       "      <th>Experience</th>\n",
       "      <th>Language Level - French</th>\n",
       "      <th>Match_ID</th>\n",
       "      <th>Status</th>\n",
       "      <th>4. CV sent to Client</th>\n",
       "      <th>4. Client initial validation date</th>\n",
       "      <th>7. Client final approval date</th>\n",
       "    </tr>\n",
       "    <tr>\n",
       "      <th>MatchStatus</th>\n",
       "      <th>Black</th>\n",
       "      <th></th>\n",
       "      <th></th>\n",
       "      <th></th>\n",
       "      <th></th>\n",
       "      <th></th>\n",
       "      <th></th>\n",
       "      <th></th>\n",
       "      <th></th>\n",
       "    </tr>\n",
       "  </thead>\n",
       "  <tbody>\n",
       "    <tr>\n",
       "      <th rowspan=\"2\" valign=\"top\">0</th>\n",
       "      <th>0</th>\n",
       "      <td>954</td>\n",
       "      <td>205</td>\n",
       "      <td>158</td>\n",
       "      <td>954</td>\n",
       "      <td>954</td>\n",
       "      <td>650</td>\n",
       "      <td>670</td>\n",
       "      <td>279</td>\n",
       "    </tr>\n",
       "    <tr>\n",
       "      <th>1</th>\n",
       "      <td>954</td>\n",
       "      <td>205</td>\n",
       "      <td>172</td>\n",
       "      <td>954</td>\n",
       "      <td>954</td>\n",
       "      <td>629</td>\n",
       "      <td>659</td>\n",
       "      <td>265</td>\n",
       "    </tr>\n",
       "    <tr>\n",
       "      <th rowspan=\"2\" valign=\"top\">1</th>\n",
       "      <th>0</th>\n",
       "      <td>208</td>\n",
       "      <td>203</td>\n",
       "      <td>165</td>\n",
       "      <td>208</td>\n",
       "      <td>208</td>\n",
       "      <td>208</td>\n",
       "      <td>208</td>\n",
       "      <td>208</td>\n",
       "    </tr>\n",
       "    <tr>\n",
       "      <th>1</th>\n",
       "      <td>139</td>\n",
       "      <td>137</td>\n",
       "      <td>105</td>\n",
       "      <td>139</td>\n",
       "      <td>139</td>\n",
       "      <td>139</td>\n",
       "      <td>139</td>\n",
       "      <td>139</td>\n",
       "    </tr>\n",
       "  </tbody>\n",
       "</table>\n",
       "</div>"
      ],
      "text/plain": [
       "                   CV_ID  Experience  Language Level - French  Match_ID  \\\n",
       "MatchStatus Black                                                         \n",
       "0           0        954         205                      158       954   \n",
       "            1        954         205                      172       954   \n",
       "1           0        208         203                      165       208   \n",
       "            1        139         137                      105       139   \n",
       "\n",
       "                   Status  4. CV sent to Client  \\\n",
       "MatchStatus Black                                 \n",
       "0           0         954                   650   \n",
       "            1         954                   629   \n",
       "1           0         208                   208   \n",
       "            1         139                   139   \n",
       "\n",
       "                   4. Client initial validation date  \\\n",
       "MatchStatus Black                                      \n",
       "0           0                                    670   \n",
       "            1                                    659   \n",
       "1           0                                    208   \n",
       "            1                                    139   \n",
       "\n",
       "                   7. Client final approval date  \n",
       "MatchStatus Black                                 \n",
       "0           0                                279  \n",
       "            1                                265  \n",
       "1           0                                208  \n",
       "            1                                139  "
      ]
     },
     "execution_count": 295,
     "metadata": {},
     "output_type": "execute_result"
    }
   ],
   "source": [
    "racedeviation10.groupby(['MatchStatus','Black']).count()"
   ]
  },
  {
   "cell_type": "code",
   "execution_count": 240,
   "metadata": {},
   "outputs": [
    {
     "data": {
      "text/html": [
       "<div>\n",
       "<style scoped>\n",
       "    .dataframe tbody tr th:only-of-type {\n",
       "        vertical-align: middle;\n",
       "    }\n",
       "\n",
       "    .dataframe tbody tr th {\n",
       "        vertical-align: top;\n",
       "    }\n",
       "\n",
       "    .dataframe thead th {\n",
       "        text-align: right;\n",
       "    }\n",
       "</style>\n",
       "<table border=\"1\" class=\"dataframe\">\n",
       "  <thead>\n",
       "    <tr style=\"text-align: right;\">\n",
       "      <th></th>\n",
       "      <th></th>\n",
       "      <th>CV_ID</th>\n",
       "      <th>Experience</th>\n",
       "      <th>Language Level - French</th>\n",
       "      <th>Match_ID</th>\n",
       "      <th>Status</th>\n",
       "      <th>4. CV sent to Client</th>\n",
       "      <th>4. Client initial validation date</th>\n",
       "      <th>7. Client final approval date</th>\n",
       "    </tr>\n",
       "    <tr>\n",
       "      <th>MatchStatus</th>\n",
       "      <th>Gender</th>\n",
       "      <th></th>\n",
       "      <th></th>\n",
       "      <th></th>\n",
       "      <th></th>\n",
       "      <th></th>\n",
       "      <th></th>\n",
       "      <th></th>\n",
       "      <th></th>\n",
       "    </tr>\n",
       "  </thead>\n",
       "  <tbody>\n",
       "    <tr>\n",
       "      <th rowspan=\"2\" valign=\"top\">0</th>\n",
       "      <th>F</th>\n",
       "      <td>954</td>\n",
       "      <td>205</td>\n",
       "      <td>172</td>\n",
       "      <td>954</td>\n",
       "      <td>954</td>\n",
       "      <td>629</td>\n",
       "      <td>659</td>\n",
       "      <td>265</td>\n",
       "    </tr>\n",
       "    <tr>\n",
       "      <th>M</th>\n",
       "      <td>954</td>\n",
       "      <td>205</td>\n",
       "      <td>158</td>\n",
       "      <td>954</td>\n",
       "      <td>954</td>\n",
       "      <td>650</td>\n",
       "      <td>670</td>\n",
       "      <td>279</td>\n",
       "    </tr>\n",
       "    <tr>\n",
       "      <th rowspan=\"2\" valign=\"top\">1</th>\n",
       "      <th>F</th>\n",
       "      <td>167</td>\n",
       "      <td>165</td>\n",
       "      <td>129</td>\n",
       "      <td>167</td>\n",
       "      <td>167</td>\n",
       "      <td>167</td>\n",
       "      <td>167</td>\n",
       "      <td>167</td>\n",
       "    </tr>\n",
       "    <tr>\n",
       "      <th>M</th>\n",
       "      <td>180</td>\n",
       "      <td>175</td>\n",
       "      <td>141</td>\n",
       "      <td>180</td>\n",
       "      <td>180</td>\n",
       "      <td>180</td>\n",
       "      <td>180</td>\n",
       "      <td>180</td>\n",
       "    </tr>\n",
       "  </tbody>\n",
       "</table>\n",
       "</div>"
      ],
      "text/plain": [
       "                    CV_ID  Experience  Language Level - French  Match_ID  \\\n",
       "MatchStatus Gender                                                         \n",
       "0           F         954         205                      172       954   \n",
       "            M         954         205                      158       954   \n",
       "1           F         167         165                      129       167   \n",
       "            M         180         175                      141       180   \n",
       "\n",
       "                    Status  4. CV sent to Client  \\\n",
       "MatchStatus Gender                                 \n",
       "0           F          954                   629   \n",
       "            M          954                   650   \n",
       "1           F          167                   167   \n",
       "            M          180                   180   \n",
       "\n",
       "                    4. Client initial validation date  \\\n",
       "MatchStatus Gender                                      \n",
       "0           F                                     659   \n",
       "            M                                     670   \n",
       "1           F                                     167   \n",
       "            M                                     180   \n",
       "\n",
       "                    7. Client final approval date  \n",
       "MatchStatus Gender                                 \n",
       "0           F                                 265  \n",
       "            M                                 279  \n",
       "1           F                                 167  \n",
       "            M                                 180  "
      ]
     },
     "execution_count": 240,
     "metadata": {},
     "output_type": "execute_result"
    }
   ],
   "source": [
    "deviation2.groupby(['MatchStatus','Gender']).count()"
   ]
  },
  {
   "cell_type": "code",
   "execution_count": null,
   "metadata": {},
   "outputs": [],
   "source": [
    "# Rough Work"
   ]
  },
  {
   "cell_type": "code",
   "execution_count": 110,
   "metadata": {},
   "outputs": [],
   "source": [
    "# CV_Sourcing['Gender'] = np.random.choice(['M','F'], 10099, p=[0.65, 0.35])"
   ]
  },
  {
   "cell_type": "code",
   "execution_count": 112,
   "metadata": {},
   "outputs": [],
   "source": [
    "# CV_Sourcing['Race'] = np.random.choice(['American Indian or Alaska Native','Asian',\n",
    "#                                        'Black or African American','Native Hawaiian or Other Pacific Islander',\n",
    "#                                         'White', 'NA'], 10099, p=[0.05, 0.3, .18, .07, .35, .05])"
   ]
  },
  {
   "cell_type": "code",
   "execution_count": 116,
   "metadata": {},
   "outputs": [],
   "source": [
    "# CV_Sourcing['Parent'] = np.random.choice([1,0], 10099, p=[0.30, 0.7])"
   ]
  },
  {
   "cell_type": "code",
   "execution_count": 129,
   "metadata": {},
   "outputs": [],
   "source": [
    "# CV_Sourcing['City'] = np.random.choice(['Atlanta, GA','San Francisco, CA',\n",
    "#                                        'Chicago, IL','New York City, NY',\n",
    "#                                         'Houston, TX', 'Dallas, TX', \n",
    "#                                         'Salt Lake City, UT', 'Miami, FL',\n",
    "#                                        'Los Angeles, CA','Seattle, WA'], 10099, \n",
    "#                                        p=[0.07, 0.18, .09, .11, .07, .1, .04, .12, .1, .12])"
   ]
  },
  {
   "cell_type": "code",
   "execution_count": 131,
   "metadata": {},
   "outputs": [],
   "source": [
    "# CV_Sourcing['Occupation'] = np.random.choice(['Software Developer','Administrative Assistant',\n",
    "#                                        'Customer Service','Cook',\n",
    "#                                         'High-skilled Sales', 'Low-skilled Sales'], 10099, \n",
    "#                                        p=[0.43, 0.12, .2, .12, .1, .03])"
   ]
  },
  {
   "cell_type": "code",
   "execution_count": null,
   "metadata": {},
   "outputs": [],
   "source": []
  },
  {
   "cell_type": "code",
   "execution_count": 134,
   "metadata": {},
   "outputs": [],
   "source": [
    "CV_Sourcing.to_excel('./data/kaggle/augmented_data.xlsx')"
   ]
  },
  {
   "cell_type": "code",
   "execution_count": null,
   "metadata": {},
   "outputs": [],
   "source": []
  }
 ],
 "metadata": {
  "kernelspec": {
   "display_name": "Python 3",
   "language": "python",
   "name": "python3"
  },
  "language_info": {
   "codemirror_mode": {
    "name": "ipython",
    "version": 3
   },
   "file_extension": ".py",
   "mimetype": "text/x-python",
   "name": "python",
   "nbconvert_exporter": "python",
   "pygments_lexer": "ipython3",
   "version": "3.7.6"
  }
 },
 "nbformat": 4,
 "nbformat_minor": 4
}
